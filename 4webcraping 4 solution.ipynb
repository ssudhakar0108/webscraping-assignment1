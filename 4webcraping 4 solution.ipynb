{
 "cells": [
  {
   "cell_type": "markdown",
   "metadata": {},
   "source": [
    "# Write a python program to scrap book name, author name, genre and book review of any 5 books from www.bookpage.com"
   ]
  },
  {
   "cell_type": "code",
   "execution_count": 2,
   "metadata": {},
   "outputs": [],
   "source": [
    "import selenium\n",
    "import pandas as pd\n",
    "from selenium import webdriver"
   ]
  },
  {
   "cell_type": "code",
   "execution_count": 3,
   "metadata": {},
   "outputs": [],
   "source": [
    "driver=webdriver.Chrome(r\"/home/sudhakar/Downloads/chromedriver\")"
   ]
  },
  {
   "cell_type": "code",
   "execution_count": 4,
   "metadata": {},
   "outputs": [],
   "source": [
    "url=\"https://bookpage.com/reviews\""
   ]
  },
  {
   "cell_type": "code",
   "execution_count": 5,
   "metadata": {},
   "outputs": [],
   "source": [
    "driver.get(url)"
   ]
  },
  {
   "cell_type": "code",
   "execution_count": 6,
   "metadata": {},
   "outputs": [],
   "source": [
    "NAME=[]\n",
    "AUTHOR_NAME=[]\n",
    "GENERE=[]\n",
    "BOOK_REVIEW=[]\n"
   ]
  },
  {
   "cell_type": "code",
   "execution_count": 7,
   "metadata": {},
   "outputs": [],
   "source": [
    "name_tags=driver.find_elements_by_xpath(\"//h4[@class='italic']\")"
   ]
  },
  {
   "cell_type": "code",
   "execution_count": 59,
   "metadata": {},
   "outputs": [
    {
     "data": {
      "text/plain": [
       "[<selenium.webdriver.remote.webelement.WebElement (session=\"632357c80d5ab51386dc265f265b66b9\", element=\"62e11dcc-ae1e-4ce7-a5c5-a93a0bf632b5\")>,\n",
       " <selenium.webdriver.remote.webelement.WebElement (session=\"632357c80d5ab51386dc265f265b66b9\", element=\"eb8341db-079c-434c-a04e-d8b6a93c6598\")>,\n",
       " <selenium.webdriver.remote.webelement.WebElement (session=\"632357c80d5ab51386dc265f265b66b9\", element=\"31b9feec-64dc-4ada-b3f0-d87123f3432a\")>,\n",
       " <selenium.webdriver.remote.webelement.WebElement (session=\"632357c80d5ab51386dc265f265b66b9\", element=\"9d460db2-c20f-4cd9-9ee1-68d834f5cad0\")>,\n",
       " <selenium.webdriver.remote.webelement.WebElement (session=\"632357c80d5ab51386dc265f265b66b9\", element=\"dc6379ab-5f0d-41c8-bfb4-5ab8f0e14b44\")>,\n",
       " <selenium.webdriver.remote.webelement.WebElement (session=\"632357c80d5ab51386dc265f265b66b9\", element=\"e04563de-20bb-444b-a236-bd7bbf1f5df0\")>,\n",
       " <selenium.webdriver.remote.webelement.WebElement (session=\"632357c80d5ab51386dc265f265b66b9\", element=\"32fcef0c-6a7e-4641-bd68-5b6b6bf3e64e\")>,\n",
       " <selenium.webdriver.remote.webelement.WebElement (session=\"632357c80d5ab51386dc265f265b66b9\", element=\"75d7d40f-1243-463d-954e-99d9a8b44e38\")>,\n",
       " <selenium.webdriver.remote.webelement.WebElement (session=\"632357c80d5ab51386dc265f265b66b9\", element=\"446815ae-a332-4ead-a58b-08d566b97fd4\")>,\n",
       " <selenium.webdriver.remote.webelement.WebElement (session=\"632357c80d5ab51386dc265f265b66b9\", element=\"cd1520e7-9c1b-409c-bb5f-e10c1a5ed0f7\")>]"
      ]
     },
     "execution_count": 59,
     "metadata": {},
     "output_type": "execute_result"
    }
   ],
   "source": [
    "name_tags"
   ]
  },
  {
   "cell_type": "code",
   "execution_count": 60,
   "metadata": {},
   "outputs": [],
   "source": [
    "for i in name_tags:\n",
    "    name1=i.text\n",
    "    NAME.append(name1)"
   ]
  },
  {
   "cell_type": "code",
   "execution_count": 61,
   "metadata": {},
   "outputs": [
    {
     "data": {
      "text/plain": [
       "['★ Black Buck',\n",
       " 'The Lost Manuscript',\n",
       " '★ Detransition, Baby',\n",
       " 'The Ruthless Lady’s Guide to Wizardry',\n",
       " '★ Concrete Rose',\n",
       " '★ Deep Into the Dark',\n",
       " '★ A Swim in a Pond in the Rain',\n",
       " 'The New Climate War',\n",
       " '★ Just Like That',\n",
       " 'The House on Vesper Sands']"
      ]
     },
     "execution_count": 61,
     "metadata": {},
     "output_type": "execute_result"
    }
   ],
   "source": [
    "NAME"
   ]
  },
  {
   "cell_type": "code",
   "execution_count": 62,
   "metadata": {},
   "outputs": [],
   "source": [
    "author_name_tags=driver.find_elements_by_xpath(\"//p[@class='sans bold']\")"
   ]
  },
  {
   "cell_type": "code",
   "execution_count": 63,
   "metadata": {},
   "outputs": [
    {
     "data": {
      "text/plain": [
       "[<selenium.webdriver.remote.webelement.WebElement (session=\"632357c80d5ab51386dc265f265b66b9\", element=\"a82689a4-62fe-4f64-b66b-e94b5dbba516\")>,\n",
       " <selenium.webdriver.remote.webelement.WebElement (session=\"632357c80d5ab51386dc265f265b66b9\", element=\"43c7720b-f35e-4f98-abe0-c574bd1bba6c\")>,\n",
       " <selenium.webdriver.remote.webelement.WebElement (session=\"632357c80d5ab51386dc265f265b66b9\", element=\"b928c371-0ff8-4aa9-8a04-ace95f14a20e\")>,\n",
       " <selenium.webdriver.remote.webelement.WebElement (session=\"632357c80d5ab51386dc265f265b66b9\", element=\"45550446-94c8-4ab6-b049-140138982d58\")>,\n",
       " <selenium.webdriver.remote.webelement.WebElement (session=\"632357c80d5ab51386dc265f265b66b9\", element=\"2d5d4dc1-abff-4fcf-8031-8266f779e3a3\")>,\n",
       " <selenium.webdriver.remote.webelement.WebElement (session=\"632357c80d5ab51386dc265f265b66b9\", element=\"e1797fff-f1ee-45a6-92b0-155945322978\")>,\n",
       " <selenium.webdriver.remote.webelement.WebElement (session=\"632357c80d5ab51386dc265f265b66b9\", element=\"70a44766-0f27-4380-b4f8-bb11a2237381\")>,\n",
       " <selenium.webdriver.remote.webelement.WebElement (session=\"632357c80d5ab51386dc265f265b66b9\", element=\"988725f3-659d-4725-bd8b-7c2a5c7524a2\")>,\n",
       " <selenium.webdriver.remote.webelement.WebElement (session=\"632357c80d5ab51386dc265f265b66b9\", element=\"8f8ecade-e932-4093-815a-0be807dd95be\")>,\n",
       " <selenium.webdriver.remote.webelement.WebElement (session=\"632357c80d5ab51386dc265f265b66b9\", element=\"f1996e57-a094-425b-bb07-2c8b23e5637a\")>]"
      ]
     },
     "execution_count": 63,
     "metadata": {},
     "output_type": "execute_result"
    }
   ],
   "source": [
    "author_name_tags"
   ]
  },
  {
   "cell_type": "code",
   "execution_count": 64,
   "metadata": {},
   "outputs": [],
   "source": [
    "for i in author_name_tags:\n",
    "    name1=i.text\n",
    "    AUTHOR_NAME.append(name1)"
   ]
  },
  {
   "cell_type": "code",
   "execution_count": 65,
   "metadata": {},
   "outputs": [
    {
     "data": {
      "text/plain": [
       "['Mateo Askaripour',\n",
       " 'Cathy Bonidan, Emma Ramadan',\n",
       " 'Torrey Peters',\n",
       " 'C.M. Waggoner',\n",
       " 'Angie Thomas',\n",
       " 'P.J. Tracy',\n",
       " 'George Saunders',\n",
       " 'Michael E. Mann',\n",
       " 'Gary D. Schmidt',\n",
       " 'Paraic O’Donnell']"
      ]
     },
     "execution_count": 65,
     "metadata": {},
     "output_type": "execute_result"
    }
   ],
   "source": [
    "AUTHOR_NAME"
   ]
  },
  {
   "cell_type": "code",
   "execution_count": 66,
   "metadata": {},
   "outputs": [],
   "source": [
    "genere_name_tags=driver.find_elements_by_xpath(\"//p[@class='genre-links hidden-phone']\")"
   ]
  },
  {
   "cell_type": "code",
   "execution_count": 67,
   "metadata": {},
   "outputs": [
    {
     "data": {
      "text/plain": [
       "[<selenium.webdriver.remote.webelement.WebElement (session=\"632357c80d5ab51386dc265f265b66b9\", element=\"0f320e07-4683-4677-87b5-05b8794ddfc2\")>,\n",
       " <selenium.webdriver.remote.webelement.WebElement (session=\"632357c80d5ab51386dc265f265b66b9\", element=\"b7fbd104-5ee0-49cc-8897-6b63bd05abaa\")>,\n",
       " <selenium.webdriver.remote.webelement.WebElement (session=\"632357c80d5ab51386dc265f265b66b9\", element=\"8d090f55-5fe6-4573-b2c9-4dbd9e1bfa1c\")>,\n",
       " <selenium.webdriver.remote.webelement.WebElement (session=\"632357c80d5ab51386dc265f265b66b9\", element=\"955e5887-fe65-495f-b65c-b49fc8f898a7\")>,\n",
       " <selenium.webdriver.remote.webelement.WebElement (session=\"632357c80d5ab51386dc265f265b66b9\", element=\"bf7683f3-7a64-4f3a-b1d0-e4ab30686e83\")>,\n",
       " <selenium.webdriver.remote.webelement.WebElement (session=\"632357c80d5ab51386dc265f265b66b9\", element=\"f94b8c3c-0ac7-4923-829a-d9f1a9a5c4bd\")>,\n",
       " <selenium.webdriver.remote.webelement.WebElement (session=\"632357c80d5ab51386dc265f265b66b9\", element=\"0faae632-47ab-4a21-8d57-67c7bd2bf819\")>,\n",
       " <selenium.webdriver.remote.webelement.WebElement (session=\"632357c80d5ab51386dc265f265b66b9\", element=\"b704c646-31e2-4e19-9486-a9859722a4cc\")>,\n",
       " <selenium.webdriver.remote.webelement.WebElement (session=\"632357c80d5ab51386dc265f265b66b9\", element=\"9bf0bf80-f220-4b5c-9033-6178ffcf6105\")>,\n",
       " <selenium.webdriver.remote.webelement.WebElement (session=\"632357c80d5ab51386dc265f265b66b9\", element=\"4e8d4813-f0f1-42a5-9817-97bde3b18f87\")>]"
      ]
     },
     "execution_count": 67,
     "metadata": {},
     "output_type": "execute_result"
    }
   ],
   "source": [
    "genere_name_tags"
   ]
  },
  {
   "cell_type": "code",
   "execution_count": 68,
   "metadata": {},
   "outputs": [],
   "source": [
    "for i in genere_name_tags:\n",
    "    name1=i.text\n",
    "    GENERE.append(name1)"
   ]
  },
  {
   "cell_type": "code",
   "execution_count": 69,
   "metadata": {},
   "outputs": [
    {
     "data": {
      "text/plain": [
       "['Fiction / Satirical Fiction',\n",
       " 'Fiction / Popular Fiction',\n",
       " 'Fiction / Family Drama',\n",
       " 'Science Fiction & Fantasy / Fantasy',\n",
       " 'YA / YA Fiction',\n",
       " 'Mystery & Suspense / Mystery',\n",
       " 'Nonfiction / Literary Criticism / Short Stories',\n",
       " 'Nonfiction / Science / Science & Nature',\n",
       " 'Children’s / Middle Grade',\n",
       " 'Mystery & Suspense / Mystery / Historical Mystery']"
      ]
     },
     "execution_count": 69,
     "metadata": {},
     "output_type": "execute_result"
    }
   ],
   "source": [
    "GENERE"
   ]
  },
  {
   "cell_type": "code",
   "execution_count": 70,
   "metadata": {},
   "outputs": [],
   "source": [
    "reviews=driver.find_elements_by_xpath(\"//div[@class='read-full']\")"
   ]
  },
  {
   "cell_type": "code",
   "execution_count": 71,
   "metadata": {},
   "outputs": [
    {
     "data": {
      "text/plain": [
       "[<selenium.webdriver.remote.webelement.WebElement (session=\"632357c80d5ab51386dc265f265b66b9\", element=\"f6ca40c9-9f39-4156-9a0a-f001d6ea1f4b\")>,\n",
       " <selenium.webdriver.remote.webelement.WebElement (session=\"632357c80d5ab51386dc265f265b66b9\", element=\"3d3a0bce-7b56-4555-be1b-d363e9b6f116\")>,\n",
       " <selenium.webdriver.remote.webelement.WebElement (session=\"632357c80d5ab51386dc265f265b66b9\", element=\"d14e7bfc-3e27-4728-95df-5f8149efd9f8\")>,\n",
       " <selenium.webdriver.remote.webelement.WebElement (session=\"632357c80d5ab51386dc265f265b66b9\", element=\"db50a7cd-f2e4-46e8-834d-ae1058e52581\")>,\n",
       " <selenium.webdriver.remote.webelement.WebElement (session=\"632357c80d5ab51386dc265f265b66b9\", element=\"62a7f5d2-aec0-41fd-8540-605800664db1\")>,\n",
       " <selenium.webdriver.remote.webelement.WebElement (session=\"632357c80d5ab51386dc265f265b66b9\", element=\"0845ae7b-aed6-4e92-a710-efff940b5a00\")>,\n",
       " <selenium.webdriver.remote.webelement.WebElement (session=\"632357c80d5ab51386dc265f265b66b9\", element=\"ca00cb16-a28f-468d-a5e0-f398fbe6ec12\")>,\n",
       " <selenium.webdriver.remote.webelement.WebElement (session=\"632357c80d5ab51386dc265f265b66b9\", element=\"3ba4656a-86fc-49a1-a7c9-7f3f623e22a1\")>,\n",
       " <selenium.webdriver.remote.webelement.WebElement (session=\"632357c80d5ab51386dc265f265b66b9\", element=\"a61aecc6-1faf-46a8-9fdd-bd1202f6808c\")>,\n",
       " <selenium.webdriver.remote.webelement.WebElement (session=\"632357c80d5ab51386dc265f265b66b9\", element=\"d8436cff-ffde-4e2f-b8b2-cefa5d59f0cd\")>]"
      ]
     },
     "execution_count": 71,
     "metadata": {},
     "output_type": "execute_result"
    }
   ],
   "source": [
    "reviews"
   ]
  },
  {
   "cell_type": "code",
   "execution_count": 72,
   "metadata": {},
   "outputs": [],
   "source": [
    "for i in reviews:\n",
    "    name1=i.text\n",
    "    BOOK_REVIEW.append(name1)"
   ]
  },
  {
   "cell_type": "code",
   "execution_count": 81,
   "metadata": {},
   "outputs": [
    {
     "data": {
      "text/plain": [
       "['READ THE REVIEW',\n",
       " 'READ THE REVIEW',\n",
       " 'READ THE REVIEW',\n",
       " 'READ THE REVIEW',\n",
       " 'READ THE REVIEW',\n",
       " 'READ THE REVIEW',\n",
       " 'READ THE REVIEW',\n",
       " 'READ THE REVIEW',\n",
       " 'READ THE REVIEW',\n",
       " 'READ THE REVIEW']"
      ]
     },
     "execution_count": 81,
     "metadata": {},
     "output_type": "execute_result"
    }
   ],
   "source": [
    "BOOK_REVIEW"
   ]
  },
  {
   "cell_type": "code",
   "execution_count": 74,
   "metadata": {},
   "outputs": [
    {
     "name": "stdout",
     "output_type": "stream",
     "text": [
      "10 10 10 10\n"
     ]
    }
   ],
   "source": [
    "print(len(NAME),len(AUTHOR_NAME),len(GENERE),len(BOOK_REVIEW))"
   ]
  },
  {
   "cell_type": "code",
   "execution_count": 75,
   "metadata": {},
   "outputs": [],
   "source": [
    "import pandas as pd\n",
    "book=pd.DataFrame({})\n",
    "book['NAME']=NAME\n",
    "book['AUTHOR_NAME']=AUTHOR_NAME\n",
    "book['GENERE']=GENERE\n",
    "book['BOOK_REVIEW']=BOOK_REVIEW"
   ]
  },
  {
   "cell_type": "code",
   "execution_count": 78,
   "metadata": {},
   "outputs": [
    {
     "data": {
      "text/html": [
       "<div>\n",
       "<style scoped>\n",
       "    .dataframe tbody tr th:only-of-type {\n",
       "        vertical-align: middle;\n",
       "    }\n",
       "\n",
       "    .dataframe tbody tr th {\n",
       "        vertical-align: top;\n",
       "    }\n",
       "\n",
       "    .dataframe thead th {\n",
       "        text-align: right;\n",
       "    }\n",
       "</style>\n",
       "<table border=\"1\" class=\"dataframe\">\n",
       "  <thead>\n",
       "    <tr style=\"text-align: right;\">\n",
       "      <th></th>\n",
       "      <th>NAME</th>\n",
       "      <th>AUTHOR_NAME</th>\n",
       "      <th>GENERE</th>\n",
       "      <th>BOOK_REVIEW</th>\n",
       "    </tr>\n",
       "  </thead>\n",
       "  <tbody>\n",
       "    <tr>\n",
       "      <th>0</th>\n",
       "      <td>★ Black Buck</td>\n",
       "      <td>Mateo Askaripour</td>\n",
       "      <td>Fiction / Satirical Fiction</td>\n",
       "      <td>READ THE REVIEW</td>\n",
       "    </tr>\n",
       "    <tr>\n",
       "      <th>1</th>\n",
       "      <td>The Lost Manuscript</td>\n",
       "      <td>Cathy Bonidan, Emma Ramadan</td>\n",
       "      <td>Fiction / Popular Fiction</td>\n",
       "      <td>READ THE REVIEW</td>\n",
       "    </tr>\n",
       "    <tr>\n",
       "      <th>2</th>\n",
       "      <td>★ Detransition, Baby</td>\n",
       "      <td>Torrey Peters</td>\n",
       "      <td>Fiction / Family Drama</td>\n",
       "      <td>READ THE REVIEW</td>\n",
       "    </tr>\n",
       "    <tr>\n",
       "      <th>3</th>\n",
       "      <td>The Ruthless Lady’s Guide to Wizardry</td>\n",
       "      <td>C.M. Waggoner</td>\n",
       "      <td>Science Fiction &amp; Fantasy / Fantasy</td>\n",
       "      <td>READ THE REVIEW</td>\n",
       "    </tr>\n",
       "    <tr>\n",
       "      <th>4</th>\n",
       "      <td>★ Concrete Rose</td>\n",
       "      <td>Angie Thomas</td>\n",
       "      <td>YA / YA Fiction</td>\n",
       "      <td>READ THE REVIEW</td>\n",
       "    </tr>\n",
       "    <tr>\n",
       "      <th>5</th>\n",
       "      <td>★ Deep Into the Dark</td>\n",
       "      <td>P.J. Tracy</td>\n",
       "      <td>Mystery &amp; Suspense / Mystery</td>\n",
       "      <td>READ THE REVIEW</td>\n",
       "    </tr>\n",
       "    <tr>\n",
       "      <th>6</th>\n",
       "      <td>★ A Swim in a Pond in the Rain</td>\n",
       "      <td>George Saunders</td>\n",
       "      <td>Nonfiction / Literary Criticism / Short Stories</td>\n",
       "      <td>READ THE REVIEW</td>\n",
       "    </tr>\n",
       "    <tr>\n",
       "      <th>7</th>\n",
       "      <td>The New Climate War</td>\n",
       "      <td>Michael E. Mann</td>\n",
       "      <td>Nonfiction / Science / Science &amp; Nature</td>\n",
       "      <td>READ THE REVIEW</td>\n",
       "    </tr>\n",
       "    <tr>\n",
       "      <th>8</th>\n",
       "      <td>★ Just Like That</td>\n",
       "      <td>Gary D. Schmidt</td>\n",
       "      <td>Children’s / Middle Grade</td>\n",
       "      <td>READ THE REVIEW</td>\n",
       "    </tr>\n",
       "    <tr>\n",
       "      <th>9</th>\n",
       "      <td>The House on Vesper Sands</td>\n",
       "      <td>Paraic O’Donnell</td>\n",
       "      <td>Mystery &amp; Suspense / Mystery / Historical Mystery</td>\n",
       "      <td>READ THE REVIEW</td>\n",
       "    </tr>\n",
       "  </tbody>\n",
       "</table>\n",
       "</div>"
      ],
      "text/plain": [
       "                                    NAME                  AUTHOR_NAME  \\\n",
       "0                           ★ Black Buck             Mateo Askaripour   \n",
       "1                    The Lost Manuscript  Cathy Bonidan, Emma Ramadan   \n",
       "2                   ★ Detransition, Baby                Torrey Peters   \n",
       "3  The Ruthless Lady’s Guide to Wizardry                C.M. Waggoner   \n",
       "4                        ★ Concrete Rose                 Angie Thomas   \n",
       "5                   ★ Deep Into the Dark                   P.J. Tracy   \n",
       "6         ★ A Swim in a Pond in the Rain              George Saunders   \n",
       "7                    The New Climate War              Michael E. Mann   \n",
       "8                       ★ Just Like That              Gary D. Schmidt   \n",
       "9              The House on Vesper Sands             Paraic O’Donnell   \n",
       "\n",
       "                                              GENERE      BOOK_REVIEW  \n",
       "0                        Fiction / Satirical Fiction  READ THE REVIEW  \n",
       "1                          Fiction / Popular Fiction  READ THE REVIEW  \n",
       "2                             Fiction / Family Drama  READ THE REVIEW  \n",
       "3                Science Fiction & Fantasy / Fantasy  READ THE REVIEW  \n",
       "4                                    YA / YA Fiction  READ THE REVIEW  \n",
       "5                       Mystery & Suspense / Mystery  READ THE REVIEW  \n",
       "6    Nonfiction / Literary Criticism / Short Stories  READ THE REVIEW  \n",
       "7            Nonfiction / Science / Science & Nature  READ THE REVIEW  \n",
       "8                          Children’s / Middle Grade  READ THE REVIEW  \n",
       "9  Mystery & Suspense / Mystery / Historical Mystery  READ THE REVIEW  "
      ]
     },
     "execution_count": 78,
     "metadata": {},
     "output_type": "execute_result"
    }
   ],
   "source": [
    "book"
   ]
  },
  {
   "cell_type": "code",
   "execution_count": 82,
   "metadata": {},
   "outputs": [],
   "source": [
    "import csv\n",
    "#save to CSV\n",
    "book.to_csv('book.csv')"
   ]
  },
  {
   "cell_type": "code",
   "execution_count": null,
   "metadata": {},
   "outputs": [],
   "source": []
  }
 ],
 "metadata": {
  "kernelspec": {
   "display_name": "Python 3",
   "language": "python",
   "name": "python3"
  },
  "language_info": {
   "codemirror_mode": {
    "name": "ipython",
    "version": 3
   },
   "file_extension": ".py",
   "mimetype": "text/x-python",
   "name": "python",
   "nbconvert_exporter": "python",
   "pygments_lexer": "ipython3",
   "version": "3.7.6"
  },
  "toc": {
   "base_numbering": 1,
   "nav_menu": {},
   "number_sections": true,
   "sideBar": true,
   "skip_h1_title": false,
   "title_cell": "Table of Contents",
   "title_sidebar": "Contents",
   "toc_cell": false,
   "toc_position": {},
   "toc_section_display": true,
   "toc_window_display": false
  }
 },
 "nbformat": 4,
 "nbformat_minor": 4
}
