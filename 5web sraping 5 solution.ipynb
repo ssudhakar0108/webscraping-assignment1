{
 "cells": [
  {
   "cell_type": "markdown",
   "metadata": {},
   "source": [
    "# Write a python program to scrape cricket rankings from ‘www.icc-cricket.com’. You have to scrape:\n",
    "#i) Top 10 ODI teams in men’s cricket along with the records for matches, points and rating.\n",
    "#ii) Top 10 ODI Batsmen in men along with the records of their team and rating.\n",
    "#iii) Top 10 ODI bowlers along with the records of their team and rating."
   ]
  },
  {
   "cell_type": "code",
   "execution_count": 1,
   "metadata": {},
   "outputs": [],
   "source": [
    "import selenium\n",
    "import pandas as pd\n",
    "from selenium import webdriver"
   ]
  },
  {
   "cell_type": "code",
   "execution_count": 2,
   "metadata": {},
   "outputs": [],
   "source": [
    "driver=webdriver.Chrome(r\"/home/sudhakar/Downloads/chromedriver\")"
   ]
  },
  {
   "cell_type": "code",
   "execution_count": 3,
   "metadata": {},
   "outputs": [],
   "source": [
    "url=\"https://www.icc-cricket.com/rankings/mens/team-rankings/odi\""
   ]
  },
  {
   "cell_type": "code",
   "execution_count": 4,
   "metadata": {},
   "outputs": [],
   "source": [
    "driver.get(url)"
   ]
  },
  {
   "cell_type": "code",
   "execution_count": 18,
   "metadata": {},
   "outputs": [],
   "source": [
    "name_tags=driver.find_elements_by_xpath(\"//span[@class='u-hide-phablet']\")"
   ]
  },
  {
   "cell_type": "code",
   "execution_count": 19,
   "metadata": {},
   "outputs": [
    {
     "data": {
      "text/plain": [
       "[<selenium.webdriver.remote.webelement.WebElement (session=\"07a2f72a341feaa7dd6b00abb022c40c\", element=\"0ca7418e-ce8b-4837-8f4f-45bf51587416\")>,\n",
       " <selenium.webdriver.remote.webelement.WebElement (session=\"07a2f72a341feaa7dd6b00abb022c40c\", element=\"ecc1d4a5-0b16-4fc2-956e-358146351894\")>,\n",
       " <selenium.webdriver.remote.webelement.WebElement (session=\"07a2f72a341feaa7dd6b00abb022c40c\", element=\"fa8a9967-8838-4d80-8b0f-43065f622605\")>,\n",
       " <selenium.webdriver.remote.webelement.WebElement (session=\"07a2f72a341feaa7dd6b00abb022c40c\", element=\"baab1b60-49bf-46a1-ae27-4d67720b728a\")>,\n",
       " <selenium.webdriver.remote.webelement.WebElement (session=\"07a2f72a341feaa7dd6b00abb022c40c\", element=\"e929fbec-4168-4d55-b079-9c109d6f0873\")>,\n",
       " <selenium.webdriver.remote.webelement.WebElement (session=\"07a2f72a341feaa7dd6b00abb022c40c\", element=\"272a6e27-6815-4c6f-a0cf-bb62ec009e1a\")>,\n",
       " <selenium.webdriver.remote.webelement.WebElement (session=\"07a2f72a341feaa7dd6b00abb022c40c\", element=\"4cecb4c8-4213-48a8-afff-b58dfdf7e55d\")>,\n",
       " <selenium.webdriver.remote.webelement.WebElement (session=\"07a2f72a341feaa7dd6b00abb022c40c\", element=\"ca89bbb7-18d2-41f8-bc06-73976a59694b\")>,\n",
       " <selenium.webdriver.remote.webelement.WebElement (session=\"07a2f72a341feaa7dd6b00abb022c40c\", element=\"6db40f28-e8af-4667-be34-945f0f8ecaa6\")>,\n",
       " <selenium.webdriver.remote.webelement.WebElement (session=\"07a2f72a341feaa7dd6b00abb022c40c\", element=\"fd843181-77e2-48c6-b340-c0890657dd9f\")>,\n",
       " <selenium.webdriver.remote.webelement.WebElement (session=\"07a2f72a341feaa7dd6b00abb022c40c\", element=\"04900721-54c0-4514-9d6c-8c265abca892\")>,\n",
       " <selenium.webdriver.remote.webelement.WebElement (session=\"07a2f72a341feaa7dd6b00abb022c40c\", element=\"876abdf7-562a-4523-8a23-d4cb6b8eb721\")>,\n",
       " <selenium.webdriver.remote.webelement.WebElement (session=\"07a2f72a341feaa7dd6b00abb022c40c\", element=\"e3dcb4b7-bfb2-419d-a946-7629e3a36f90\")>,\n",
       " <selenium.webdriver.remote.webelement.WebElement (session=\"07a2f72a341feaa7dd6b00abb022c40c\", element=\"a0949f12-dfd7-4bbc-b2a8-370aca655ea5\")>,\n",
       " <selenium.webdriver.remote.webelement.WebElement (session=\"07a2f72a341feaa7dd6b00abb022c40c\", element=\"36179f7b-8a06-4344-a567-638eea4026e4\")>,\n",
       " <selenium.webdriver.remote.webelement.WebElement (session=\"07a2f72a341feaa7dd6b00abb022c40c\", element=\"cd95fb7b-c900-4b66-be61-af109ddb8413\")>,\n",
       " <selenium.webdriver.remote.webelement.WebElement (session=\"07a2f72a341feaa7dd6b00abb022c40c\", element=\"c54f7921-7a1b-4f7d-9bd4-9161b1823e4d\")>,\n",
       " <selenium.webdriver.remote.webelement.WebElement (session=\"07a2f72a341feaa7dd6b00abb022c40c\", element=\"84ed80d6-c9d6-4b85-8926-def3a8e43b4b\")>,\n",
       " <selenium.webdriver.remote.webelement.WebElement (session=\"07a2f72a341feaa7dd6b00abb022c40c\", element=\"f17d205f-667e-447d-81d9-6efc9a7462f3\")>,\n",
       " <selenium.webdriver.remote.webelement.WebElement (session=\"07a2f72a341feaa7dd6b00abb022c40c\", element=\"afd92e6d-aad1-42b8-9207-a1bbae6cc3f1\")>]"
      ]
     },
     "execution_count": 19,
     "metadata": {},
     "output_type": "execute_result"
    }
   ],
   "source": [
    "name_tags"
   ]
  },
  {
   "cell_type": "code",
   "execution_count": 20,
   "metadata": {},
   "outputs": [],
   "source": [
    "TEAM=[]\n",
    "for i in name_tags:\n",
    "    name1=i.text\n",
    "    TEAM.append(name1)"
   ]
  },
  {
   "cell_type": "code",
   "execution_count": 21,
   "metadata": {},
   "outputs": [
    {
     "data": {
      "text/plain": [
       "['England',\n",
       " 'India',\n",
       " 'New Zealand',\n",
       " 'Australia',\n",
       " 'South Africa',\n",
       " 'Pakistan',\n",
       " 'Bangladesh',\n",
       " 'Sri Lanka',\n",
       " 'West Indies',\n",
       " 'Afghanistan',\n",
       " 'Ireland',\n",
       " 'Netherlands',\n",
       " 'Zimbabwe',\n",
       " 'Oman',\n",
       " 'Scotland',\n",
       " 'Nepal',\n",
       " 'UAE',\n",
       " 'Namibia',\n",
       " 'United States',\n",
       " 'Papua New Guinea']"
      ]
     },
     "execution_count": 21,
     "metadata": {},
     "output_type": "execute_result"
    }
   ],
   "source": [
    "TEAM"
   ]
  },
  {
   "cell_type": "code",
   "execution_count": 33,
   "metadata": {},
   "outputs": [],
   "source": [
    "match_tags=driver.find_elements_by_xpath(\"//td[@class='rankings-block__banner--matches']\")"
   ]
  },
  {
   "cell_type": "code",
   "execution_count": 34,
   "metadata": {},
   "outputs": [
    {
     "data": {
      "text/plain": [
       "[<selenium.webdriver.remote.webelement.WebElement (session=\"07a2f72a341feaa7dd6b00abb022c40c\", element=\"71a9b8db-c163-44be-aa92-3d028e2111c6\")>]"
      ]
     },
     "execution_count": 34,
     "metadata": {},
     "output_type": "execute_result"
    }
   ],
   "source": [
    "match_tags"
   ]
  },
  {
   "cell_type": "code",
   "execution_count": 35,
   "metadata": {},
   "outputs": [],
   "source": [
    "MATCHES=[]\n",
    "for i in match_tags:\n",
    "    name1=i.text\n",
    "    MATCHES.append(name1)"
   ]
  },
  {
   "cell_type": "code",
   "execution_count": 36,
   "metadata": {},
   "outputs": [
    {
     "data": {
      "text/plain": [
       "['44']"
      ]
     },
     "execution_count": 36,
     "metadata": {},
     "output_type": "execute_result"
    }
   ],
   "source": [
    "MATCHES"
   ]
  },
  {
   "cell_type": "code",
   "execution_count": 76,
   "metadata": {},
   "outputs": [],
   "source": [
    "match_tags2=driver.find_elements_by_xpath(\"//tr[@class='table-body']/td[3]\")"
   ]
  },
  {
   "cell_type": "code",
   "execution_count": 77,
   "metadata": {},
   "outputs": [
    {
     "data": {
      "text/plain": [
       "[<selenium.webdriver.remote.webelement.WebElement (session=\"07a2f72a341feaa7dd6b00abb022c40c\", element=\"9200812a-e57f-4d95-95c8-6735616bfef3\")>,\n",
       " <selenium.webdriver.remote.webelement.WebElement (session=\"07a2f72a341feaa7dd6b00abb022c40c\", element=\"912b06a2-e96d-41da-8b74-d72361c4fbe8\")>,\n",
       " <selenium.webdriver.remote.webelement.WebElement (session=\"07a2f72a341feaa7dd6b00abb022c40c\", element=\"088e01c1-9eed-4f4a-9ba8-f735a42771bd\")>,\n",
       " <selenium.webdriver.remote.webelement.WebElement (session=\"07a2f72a341feaa7dd6b00abb022c40c\", element=\"3f29c16e-6538-4b39-89cb-acd583341941\")>,\n",
       " <selenium.webdriver.remote.webelement.WebElement (session=\"07a2f72a341feaa7dd6b00abb022c40c\", element=\"75d3d356-5855-4225-bdc1-c91c0c9f1632\")>,\n",
       " <selenium.webdriver.remote.webelement.WebElement (session=\"07a2f72a341feaa7dd6b00abb022c40c\", element=\"cf6fd49d-21a8-41fd-aad3-fb1fd8bf32ee\")>,\n",
       " <selenium.webdriver.remote.webelement.WebElement (session=\"07a2f72a341feaa7dd6b00abb022c40c\", element=\"e48d452b-1f38-45fd-beae-0c9036c7e52e\")>,\n",
       " <selenium.webdriver.remote.webelement.WebElement (session=\"07a2f72a341feaa7dd6b00abb022c40c\", element=\"a28bdf66-3ff2-4405-b442-1a9045eb8fb6\")>,\n",
       " <selenium.webdriver.remote.webelement.WebElement (session=\"07a2f72a341feaa7dd6b00abb022c40c\", element=\"14d82f06-4b40-47ad-a0d4-db81d2fbfd86\")>,\n",
       " <selenium.webdriver.remote.webelement.WebElement (session=\"07a2f72a341feaa7dd6b00abb022c40c\", element=\"afeb3ba4-f7c6-4572-bf8e-032cd01ed822\")>,\n",
       " <selenium.webdriver.remote.webelement.WebElement (session=\"07a2f72a341feaa7dd6b00abb022c40c\", element=\"7fbc5837-0cc0-4840-ad2b-503313bc7500\")>,\n",
       " <selenium.webdriver.remote.webelement.WebElement (session=\"07a2f72a341feaa7dd6b00abb022c40c\", element=\"b51a72dc-aa3c-437a-97d9-2c71287823e6\")>,\n",
       " <selenium.webdriver.remote.webelement.WebElement (session=\"07a2f72a341feaa7dd6b00abb022c40c\", element=\"e03d309b-fa0d-47ab-8929-8c076a4511b6\")>,\n",
       " <selenium.webdriver.remote.webelement.WebElement (session=\"07a2f72a341feaa7dd6b00abb022c40c\", element=\"40269f4d-9e29-490e-be58-9c3b05613ce3\")>,\n",
       " <selenium.webdriver.remote.webelement.WebElement (session=\"07a2f72a341feaa7dd6b00abb022c40c\", element=\"406f843d-ec9a-4ac0-8d54-7be52e757f74\")>,\n",
       " <selenium.webdriver.remote.webelement.WebElement (session=\"07a2f72a341feaa7dd6b00abb022c40c\", element=\"e1d7a9fc-132b-4d5b-9fd1-e0707b5be1ec\")>,\n",
       " <selenium.webdriver.remote.webelement.WebElement (session=\"07a2f72a341feaa7dd6b00abb022c40c\", element=\"a8305e68-9489-4baf-a116-53b410b914b7\")>,\n",
       " <selenium.webdriver.remote.webelement.WebElement (session=\"07a2f72a341feaa7dd6b00abb022c40c\", element=\"8381d838-0239-4cd8-9da0-c982107f5c37\")>,\n",
       " <selenium.webdriver.remote.webelement.WebElement (session=\"07a2f72a341feaa7dd6b00abb022c40c\", element=\"b865c93e-77cb-4d25-b82b-3e16e8cfb77f\")>]"
      ]
     },
     "execution_count": 77,
     "metadata": {},
     "output_type": "execute_result"
    }
   ],
   "source": [
    "match_tags2"
   ]
  },
  {
   "cell_type": "code",
   "execution_count": 78,
   "metadata": {},
   "outputs": [],
   "source": [
    "MATCHES2=[]\n",
    "for i in match_tags2:\n",
    "    name2=i.text\n",
    "    MATCHES2.append(name2)\n",
    "    "
   ]
  },
  {
   "cell_type": "code",
   "execution_count": 79,
   "metadata": {},
   "outputs": [
    {
     "data": {
      "text/plain": [
       "['52',\n",
       " '32',\n",
       " '39',\n",
       " '31',\n",
       " '35',\n",
       " '34',\n",
       " '39',\n",
       " '43',\n",
       " '28',\n",
       " '24',\n",
       " '5',\n",
       " '27',\n",
       " '12',\n",
       " '16',\n",
       " '9',\n",
       " '15',\n",
       " '9',\n",
       " '14',\n",
       " '14']"
      ]
     },
     "execution_count": 79,
     "metadata": {},
     "output_type": "execute_result"
    }
   ],
   "source": [
    "MATCHES2"
   ]
  },
  {
   "cell_type": "code",
   "execution_count": 81,
   "metadata": {},
   "outputs": [
    {
     "data": {
      "text/plain": [
       "list"
      ]
     },
     "execution_count": 81,
     "metadata": {},
     "output_type": "execute_result"
    }
   ],
   "source": [
    "type(MATCHES2)"
   ]
  },
  {
   "cell_type": "code",
   "execution_count": 82,
   "metadata": {},
   "outputs": [],
   "source": [
    "MATCHES3=MATCHES+MATCHES2"
   ]
  },
  {
   "cell_type": "code",
   "execution_count": 83,
   "metadata": {},
   "outputs": [
    {
     "data": {
      "text/plain": [
       "['44',\n",
       " '52',\n",
       " '32',\n",
       " '39',\n",
       " '31',\n",
       " '35',\n",
       " '34',\n",
       " '39',\n",
       " '43',\n",
       " '28',\n",
       " '24',\n",
       " '5',\n",
       " '27',\n",
       " '12',\n",
       " '16',\n",
       " '9',\n",
       " '15',\n",
       " '9',\n",
       " '14',\n",
       " '14']"
      ]
     },
     "execution_count": 83,
     "metadata": {},
     "output_type": "execute_result"
    }
   ],
   "source": [
    "MATCHES3"
   ]
  },
  {
   "cell_type": "code",
   "execution_count": 85,
   "metadata": {},
   "outputs": [],
   "source": [
    "point_tags1=driver.find_elements_by_xpath(\"//td[@class='rankings-block__banner--points']\")\n"
   ]
  },
  {
   "cell_type": "code",
   "execution_count": 86,
   "metadata": {},
   "outputs": [
    {
     "data": {
      "text/plain": [
       "[<selenium.webdriver.remote.webelement.WebElement (session=\"07a2f72a341feaa7dd6b00abb022c40c\", element=\"8ece3301-bc75-4106-969a-55ba22371f36\")>]"
      ]
     },
     "execution_count": 86,
     "metadata": {},
     "output_type": "execute_result"
    }
   ],
   "source": [
    "point_tags1"
   ]
  },
  {
   "cell_type": "code",
   "execution_count": 88,
   "metadata": {},
   "outputs": [],
   "source": [
    "POINT1=[]\n",
    "for i in point_tags1:\n",
    "    name3=i.text\n",
    "    POINT1.append(name3)"
   ]
  },
  {
   "cell_type": "code",
   "execution_count": 89,
   "metadata": {},
   "outputs": [
    {
     "data": {
      "text/plain": [
       "['5,405']"
      ]
     },
     "execution_count": 89,
     "metadata": {},
     "output_type": "execute_result"
    }
   ],
   "source": [
    "POINT1"
   ]
  },
  {
   "cell_type": "code",
   "execution_count": 100,
   "metadata": {},
   "outputs": [],
   "source": [
    "point_tags2=driver.find_elements_by_xpath(\"//tr[@class='table-body']/td[4]\")"
   ]
  },
  {
   "cell_type": "code",
   "execution_count": 101,
   "metadata": {},
   "outputs": [
    {
     "data": {
      "text/plain": [
       "[<selenium.webdriver.remote.webelement.WebElement (session=\"07a2f72a341feaa7dd6b00abb022c40c\", element=\"c1ee3973-ab61-4e1b-a5b6-355522903ccb\")>,\n",
       " <selenium.webdriver.remote.webelement.WebElement (session=\"07a2f72a341feaa7dd6b00abb022c40c\", element=\"9c7b9df9-eb39-4021-a46c-72948b641335\")>,\n",
       " <selenium.webdriver.remote.webelement.WebElement (session=\"07a2f72a341feaa7dd6b00abb022c40c\", element=\"aea075f2-77fb-465f-9ac9-9752f8bc05df\")>,\n",
       " <selenium.webdriver.remote.webelement.WebElement (session=\"07a2f72a341feaa7dd6b00abb022c40c\", element=\"f3d6e73c-cbd8-48d7-835b-bc0c8941ba2a\")>,\n",
       " <selenium.webdriver.remote.webelement.WebElement (session=\"07a2f72a341feaa7dd6b00abb022c40c\", element=\"a44d72f8-e54b-4b6e-b6a5-1f761ddd9d15\")>,\n",
       " <selenium.webdriver.remote.webelement.WebElement (session=\"07a2f72a341feaa7dd6b00abb022c40c\", element=\"82e2069f-a6f0-4334-a314-d88be8c643a8\")>,\n",
       " <selenium.webdriver.remote.webelement.WebElement (session=\"07a2f72a341feaa7dd6b00abb022c40c\", element=\"572350ee-cebe-4e90-88fc-21049cbd289e\")>,\n",
       " <selenium.webdriver.remote.webelement.WebElement (session=\"07a2f72a341feaa7dd6b00abb022c40c\", element=\"24d26e01-c88b-4050-b36a-d3474bc1ed73\")>,\n",
       " <selenium.webdriver.remote.webelement.WebElement (session=\"07a2f72a341feaa7dd6b00abb022c40c\", element=\"2f61ef27-4588-4a11-b01b-774ffbf50bb2\")>,\n",
       " <selenium.webdriver.remote.webelement.WebElement (session=\"07a2f72a341feaa7dd6b00abb022c40c\", element=\"92d38662-b1bc-422c-9eea-c2bc39fb54a3\")>,\n",
       " <selenium.webdriver.remote.webelement.WebElement (session=\"07a2f72a341feaa7dd6b00abb022c40c\", element=\"d493e59d-a982-42ee-ac9c-e8c68a9da237\")>,\n",
       " <selenium.webdriver.remote.webelement.WebElement (session=\"07a2f72a341feaa7dd6b00abb022c40c\", element=\"870f8ea9-9503-4380-8457-e9270c938581\")>,\n",
       " <selenium.webdriver.remote.webelement.WebElement (session=\"07a2f72a341feaa7dd6b00abb022c40c\", element=\"7d060478-92cd-4ae9-9db3-f71193227f5c\")>,\n",
       " <selenium.webdriver.remote.webelement.WebElement (session=\"07a2f72a341feaa7dd6b00abb022c40c\", element=\"30bb731a-4681-4f34-b9b9-911393ae2eb4\")>,\n",
       " <selenium.webdriver.remote.webelement.WebElement (session=\"07a2f72a341feaa7dd6b00abb022c40c\", element=\"77eb66a7-b1a9-49aa-9f73-c0afba81afa3\")>,\n",
       " <selenium.webdriver.remote.webelement.WebElement (session=\"07a2f72a341feaa7dd6b00abb022c40c\", element=\"2fae4b4e-70e4-4a09-9542-f989d02e88fa\")>,\n",
       " <selenium.webdriver.remote.webelement.WebElement (session=\"07a2f72a341feaa7dd6b00abb022c40c\", element=\"a3770f40-f72d-42d7-ace3-e1e648c44fbd\")>,\n",
       " <selenium.webdriver.remote.webelement.WebElement (session=\"07a2f72a341feaa7dd6b00abb022c40c\", element=\"3f47f90d-86ed-4d6e-a8f2-cf117ff749df\")>,\n",
       " <selenium.webdriver.remote.webelement.WebElement (session=\"07a2f72a341feaa7dd6b00abb022c40c\", element=\"fad2643a-f6d8-4a33-b98c-eaef252605c6\")>]"
      ]
     },
     "execution_count": 101,
     "metadata": {},
     "output_type": "execute_result"
    }
   ],
   "source": [
    "point_tags2"
   ]
  },
  {
   "cell_type": "code",
   "execution_count": 102,
   "metadata": {},
   "outputs": [],
   "source": [
    "POINT2=[]\n",
    "for i in point_tags2:\n",
    "    name4=i.text\n",
    "    POINT2.append(name4)"
   ]
  },
  {
   "cell_type": "code",
   "execution_count": 103,
   "metadata": {},
   "outputs": [
    {
     "data": {
      "text/plain": [
       "['6,102',\n",
       " '3,716',\n",
       " '4,344',\n",
       " '3,345',\n",
       " '3,490',\n",
       " '2,989',\n",
       " '3,297',\n",
       " '3,285',\n",
       " '1,549',\n",
       " '1,256',\n",
       " '222',\n",
       " '1,121',\n",
       " '479',\n",
       " '419',\n",
       " '161',\n",
       " '259',\n",
       " '152',\n",
       " '185',\n",
       " '0']"
      ]
     },
     "execution_count": 103,
     "metadata": {},
     "output_type": "execute_result"
    }
   ],
   "source": [
    "POINT2"
   ]
  },
  {
   "cell_type": "code",
   "execution_count": 105,
   "metadata": {},
   "outputs": [],
   "source": [
    "POINT3=POINT1+POINT2"
   ]
  },
  {
   "cell_type": "code",
   "execution_count": 106,
   "metadata": {},
   "outputs": [
    {
     "data": {
      "text/plain": [
       "['5,405',\n",
       " '6,102',\n",
       " '3,716',\n",
       " '4,344',\n",
       " '3,345',\n",
       " '3,490',\n",
       " '2,989',\n",
       " '3,297',\n",
       " '3,285',\n",
       " '1,549',\n",
       " '1,256',\n",
       " '222',\n",
       " '1,121',\n",
       " '479',\n",
       " '419',\n",
       " '161',\n",
       " '259',\n",
       " '152',\n",
       " '185',\n",
       " '0']"
      ]
     },
     "execution_count": 106,
     "metadata": {},
     "output_type": "execute_result"
    }
   ],
   "source": [
    "POINT3"
   ]
  },
  {
   "cell_type": "code",
   "execution_count": 107,
   "metadata": {},
   "outputs": [],
   "source": [
    "rating_tags1=driver.find_elements_by_xpath(\"//td[@class='rankings-block__banner--rating u-text-right']\")"
   ]
  },
  {
   "cell_type": "code",
   "execution_count": 108,
   "metadata": {},
   "outputs": [
    {
     "data": {
      "text/plain": [
       "[<selenium.webdriver.remote.webelement.WebElement (session=\"07a2f72a341feaa7dd6b00abb022c40c\", element=\"0be2b919-ff54-4f0a-901c-3fc14b0e4fdf\")>]"
      ]
     },
     "execution_count": 108,
     "metadata": {},
     "output_type": "execute_result"
    }
   ],
   "source": [
    "rating_tags1"
   ]
  },
  {
   "cell_type": "code",
   "execution_count": 109,
   "metadata": {},
   "outputs": [],
   "source": [
    "RATING1=[]\n",
    "for i in rating_tags1:\n",
    "    name5=i.text\n",
    "    RATING1.append(name5)\n",
    "    "
   ]
  },
  {
   "cell_type": "code",
   "execution_count": 110,
   "metadata": {},
   "outputs": [
    {
     "data": {
      "text/plain": [
       "['123']"
      ]
     },
     "execution_count": 110,
     "metadata": {},
     "output_type": "execute_result"
    }
   ],
   "source": [
    "RATING1"
   ]
  },
  {
   "cell_type": "code",
   "execution_count": 111,
   "metadata": {},
   "outputs": [],
   "source": [
    "rating_tags2=driver.find_elements_by_xpath(\"//td[@class='table-body__cell u-text-right rating']\")"
   ]
  },
  {
   "cell_type": "code",
   "execution_count": 112,
   "metadata": {},
   "outputs": [
    {
     "data": {
      "text/plain": [
       "[<selenium.webdriver.remote.webelement.WebElement (session=\"07a2f72a341feaa7dd6b00abb022c40c\", element=\"1b4b0224-2169-4ce8-9d7b-486c03d042f8\")>,\n",
       " <selenium.webdriver.remote.webelement.WebElement (session=\"07a2f72a341feaa7dd6b00abb022c40c\", element=\"b3ee03d8-8a08-42f9-9211-fa22ae04e4cf\")>,\n",
       " <selenium.webdriver.remote.webelement.WebElement (session=\"07a2f72a341feaa7dd6b00abb022c40c\", element=\"2ac05f92-c439-45d6-82b7-98fceadbaf57\")>,\n",
       " <selenium.webdriver.remote.webelement.WebElement (session=\"07a2f72a341feaa7dd6b00abb022c40c\", element=\"fff7e815-d15d-420b-86c8-6bc850cb378f\")>,\n",
       " <selenium.webdriver.remote.webelement.WebElement (session=\"07a2f72a341feaa7dd6b00abb022c40c\", element=\"f9e25aa2-9610-40d7-a37f-5e0a91a05723\")>,\n",
       " <selenium.webdriver.remote.webelement.WebElement (session=\"07a2f72a341feaa7dd6b00abb022c40c\", element=\"dc246a03-a855-4636-a18e-bb97721c26f2\")>,\n",
       " <selenium.webdriver.remote.webelement.WebElement (session=\"07a2f72a341feaa7dd6b00abb022c40c\", element=\"224665e7-9b30-42fd-8740-475c0695e0a6\")>,\n",
       " <selenium.webdriver.remote.webelement.WebElement (session=\"07a2f72a341feaa7dd6b00abb022c40c\", element=\"1bb5076c-9b06-4323-a1bb-994dde8c873e\")>,\n",
       " <selenium.webdriver.remote.webelement.WebElement (session=\"07a2f72a341feaa7dd6b00abb022c40c\", element=\"f39bf466-a014-4d9d-b4f4-61f322ee22f7\")>,\n",
       " <selenium.webdriver.remote.webelement.WebElement (session=\"07a2f72a341feaa7dd6b00abb022c40c\", element=\"9b8854a2-5791-4e8e-933d-3cdbb414f10d\")>,\n",
       " <selenium.webdriver.remote.webelement.WebElement (session=\"07a2f72a341feaa7dd6b00abb022c40c\", element=\"23117451-a83e-40c5-aa2a-7fcfa6f736f1\")>,\n",
       " <selenium.webdriver.remote.webelement.WebElement (session=\"07a2f72a341feaa7dd6b00abb022c40c\", element=\"862c5fcb-1174-4ddf-b286-60e2e6442025\")>,\n",
       " <selenium.webdriver.remote.webelement.WebElement (session=\"07a2f72a341feaa7dd6b00abb022c40c\", element=\"1821cdc0-8c6b-428f-a49f-7566842e08e4\")>,\n",
       " <selenium.webdriver.remote.webelement.WebElement (session=\"07a2f72a341feaa7dd6b00abb022c40c\", element=\"f1f08bbe-2a0d-4af9-8b4a-f8643175507c\")>,\n",
       " <selenium.webdriver.remote.webelement.WebElement (session=\"07a2f72a341feaa7dd6b00abb022c40c\", element=\"f6b9621f-012d-4d42-94bf-71e6a683094b\")>,\n",
       " <selenium.webdriver.remote.webelement.WebElement (session=\"07a2f72a341feaa7dd6b00abb022c40c\", element=\"822ac1cb-8696-4c08-8555-8159a7ff9103\")>,\n",
       " <selenium.webdriver.remote.webelement.WebElement (session=\"07a2f72a341feaa7dd6b00abb022c40c\", element=\"d3085907-406b-45aa-9453-0cfa0f300aeb\")>,\n",
       " <selenium.webdriver.remote.webelement.WebElement (session=\"07a2f72a341feaa7dd6b00abb022c40c\", element=\"20108d6e-5240-40b7-901c-91a6c72d6fbb\")>,\n",
       " <selenium.webdriver.remote.webelement.WebElement (session=\"07a2f72a341feaa7dd6b00abb022c40c\", element=\"ba8778ed-10ef-4b86-8911-d54508088851\")>]"
      ]
     },
     "execution_count": 112,
     "metadata": {},
     "output_type": "execute_result"
    }
   ],
   "source": [
    "rating_tags2"
   ]
  },
  {
   "cell_type": "code",
   "execution_count": 113,
   "metadata": {},
   "outputs": [],
   "source": [
    "RATING2=[]\n",
    "for i in rating_tags2:\n",
    "    name6=i.text\n",
    "    RATING2.append(name6)\n",
    "    "
   ]
  },
  {
   "cell_type": "code",
   "execution_count": 114,
   "metadata": {},
   "outputs": [
    {
     "data": {
      "text/plain": [
       "['117',\n",
       " '116',\n",
       " '111',\n",
       " '108',\n",
       " '100',\n",
       " '88',\n",
       " '85',\n",
       " '76',\n",
       " '55',\n",
       " '52',\n",
       " '44',\n",
       " '42',\n",
       " '40',\n",
       " '26',\n",
       " '18',\n",
       " '17',\n",
       " '17',\n",
       " '13',\n",
       " '0']"
      ]
     },
     "execution_count": 114,
     "metadata": {},
     "output_type": "execute_result"
    }
   ],
   "source": [
    "RATING2"
   ]
  },
  {
   "cell_type": "code",
   "execution_count": 115,
   "metadata": {},
   "outputs": [],
   "source": [
    "RATING3=RATING1+RATING2"
   ]
  },
  {
   "cell_type": "code",
   "execution_count": 116,
   "metadata": {},
   "outputs": [
    {
     "data": {
      "text/plain": [
       "['123',\n",
       " '117',\n",
       " '116',\n",
       " '111',\n",
       " '108',\n",
       " '100',\n",
       " '88',\n",
       " '85',\n",
       " '76',\n",
       " '55',\n",
       " '52',\n",
       " '44',\n",
       " '42',\n",
       " '40',\n",
       " '26',\n",
       " '18',\n",
       " '17',\n",
       " '17',\n",
       " '13',\n",
       " '0']"
      ]
     },
     "execution_count": 116,
     "metadata": {},
     "output_type": "execute_result"
    }
   ],
   "source": [
    "RATING3"
   ]
  },
  {
   "cell_type": "code",
   "execution_count": 117,
   "metadata": {},
   "outputs": [
    {
     "name": "stdout",
     "output_type": "stream",
     "text": [
      "20 20 20\n"
     ]
    }
   ],
   "source": [
    "print(len(TEAM),len(MATCHES3),len(POINT3))"
   ]
  },
  {
   "cell_type": "code",
   "execution_count": 118,
   "metadata": {},
   "outputs": [],
   "source": [
    "import pandas as pd\n",
    "odi=pd.DataFrame({})\n",
    "odi['TEAM']=TEAM\n",
    "odi['MATCHES3']=MATCHES3\n",
    "odi['POINT3']=POINT3\n"
   ]
  },
  {
   "cell_type": "code",
   "execution_count": 119,
   "metadata": {},
   "outputs": [
    {
     "data": {
      "text/html": [
       "<div>\n",
       "<style scoped>\n",
       "    .dataframe tbody tr th:only-of-type {\n",
       "        vertical-align: middle;\n",
       "    }\n",
       "\n",
       "    .dataframe tbody tr th {\n",
       "        vertical-align: top;\n",
       "    }\n",
       "\n",
       "    .dataframe thead th {\n",
       "        text-align: right;\n",
       "    }\n",
       "</style>\n",
       "<table border=\"1\" class=\"dataframe\">\n",
       "  <thead>\n",
       "    <tr style=\"text-align: right;\">\n",
       "      <th></th>\n",
       "      <th>TEAM</th>\n",
       "      <th>MATCHES3</th>\n",
       "      <th>POINT3</th>\n",
       "    </tr>\n",
       "  </thead>\n",
       "  <tbody>\n",
       "    <tr>\n",
       "      <th>0</th>\n",
       "      <td>England</td>\n",
       "      <td>44</td>\n",
       "      <td>5,405</td>\n",
       "    </tr>\n",
       "    <tr>\n",
       "      <th>1</th>\n",
       "      <td>India</td>\n",
       "      <td>52</td>\n",
       "      <td>6,102</td>\n",
       "    </tr>\n",
       "    <tr>\n",
       "      <th>2</th>\n",
       "      <td>New Zealand</td>\n",
       "      <td>32</td>\n",
       "      <td>3,716</td>\n",
       "    </tr>\n",
       "    <tr>\n",
       "      <th>3</th>\n",
       "      <td>Australia</td>\n",
       "      <td>39</td>\n",
       "      <td>4,344</td>\n",
       "    </tr>\n",
       "    <tr>\n",
       "      <th>4</th>\n",
       "      <td>South Africa</td>\n",
       "      <td>31</td>\n",
       "      <td>3,345</td>\n",
       "    </tr>\n",
       "    <tr>\n",
       "      <th>5</th>\n",
       "      <td>Pakistan</td>\n",
       "      <td>35</td>\n",
       "      <td>3,490</td>\n",
       "    </tr>\n",
       "    <tr>\n",
       "      <th>6</th>\n",
       "      <td>Bangladesh</td>\n",
       "      <td>34</td>\n",
       "      <td>2,989</td>\n",
       "    </tr>\n",
       "    <tr>\n",
       "      <th>7</th>\n",
       "      <td>Sri Lanka</td>\n",
       "      <td>39</td>\n",
       "      <td>3,297</td>\n",
       "    </tr>\n",
       "    <tr>\n",
       "      <th>8</th>\n",
       "      <td>West Indies</td>\n",
       "      <td>43</td>\n",
       "      <td>3,285</td>\n",
       "    </tr>\n",
       "    <tr>\n",
       "      <th>9</th>\n",
       "      <td>Afghanistan</td>\n",
       "      <td>28</td>\n",
       "      <td>1,549</td>\n",
       "    </tr>\n",
       "    <tr>\n",
       "      <th>10</th>\n",
       "      <td>Ireland</td>\n",
       "      <td>24</td>\n",
       "      <td>1,256</td>\n",
       "    </tr>\n",
       "    <tr>\n",
       "      <th>11</th>\n",
       "      <td>Netherlands</td>\n",
       "      <td>5</td>\n",
       "      <td>222</td>\n",
       "    </tr>\n",
       "    <tr>\n",
       "      <th>12</th>\n",
       "      <td>Zimbabwe</td>\n",
       "      <td>27</td>\n",
       "      <td>1,121</td>\n",
       "    </tr>\n",
       "    <tr>\n",
       "      <th>13</th>\n",
       "      <td>Oman</td>\n",
       "      <td>12</td>\n",
       "      <td>479</td>\n",
       "    </tr>\n",
       "    <tr>\n",
       "      <th>14</th>\n",
       "      <td>Scotland</td>\n",
       "      <td>16</td>\n",
       "      <td>419</td>\n",
       "    </tr>\n",
       "    <tr>\n",
       "      <th>15</th>\n",
       "      <td>Nepal</td>\n",
       "      <td>9</td>\n",
       "      <td>161</td>\n",
       "    </tr>\n",
       "    <tr>\n",
       "      <th>16</th>\n",
       "      <td>UAE</td>\n",
       "      <td>15</td>\n",
       "      <td>259</td>\n",
       "    </tr>\n",
       "    <tr>\n",
       "      <th>17</th>\n",
       "      <td>Namibia</td>\n",
       "      <td>9</td>\n",
       "      <td>152</td>\n",
       "    </tr>\n",
       "    <tr>\n",
       "      <th>18</th>\n",
       "      <td>United States</td>\n",
       "      <td>14</td>\n",
       "      <td>185</td>\n",
       "    </tr>\n",
       "    <tr>\n",
       "      <th>19</th>\n",
       "      <td>Papua New Guinea</td>\n",
       "      <td>14</td>\n",
       "      <td>0</td>\n",
       "    </tr>\n",
       "  </tbody>\n",
       "</table>\n",
       "</div>"
      ],
      "text/plain": [
       "                TEAM MATCHES3 POINT3\n",
       "0            England       44  5,405\n",
       "1              India       52  6,102\n",
       "2        New Zealand       32  3,716\n",
       "3          Australia       39  4,344\n",
       "4       South Africa       31  3,345\n",
       "5           Pakistan       35  3,490\n",
       "6         Bangladesh       34  2,989\n",
       "7          Sri Lanka       39  3,297\n",
       "8        West Indies       43  3,285\n",
       "9        Afghanistan       28  1,549\n",
       "10           Ireland       24  1,256\n",
       "11       Netherlands        5    222\n",
       "12          Zimbabwe       27  1,121\n",
       "13              Oman       12    479\n",
       "14          Scotland       16    419\n",
       "15             Nepal        9    161\n",
       "16               UAE       15    259\n",
       "17           Namibia        9    152\n",
       "18     United States       14    185\n",
       "19  Papua New Guinea       14      0"
      ]
     },
     "execution_count": 119,
     "metadata": {},
     "output_type": "execute_result"
    }
   ],
   "source": [
    "odi"
   ]
  },
  {
   "cell_type": "code",
   "execution_count": 120,
   "metadata": {},
   "outputs": [],
   "source": [
    "import csv\n",
    "#save to CSV\n",
    "odi.to_csv('odi.csv')"
   ]
  },
  {
   "cell_type": "markdown",
   "metadata": {},
   "source": [
    "# test team"
   ]
  },
  {
   "cell_type": "markdown",
   "metadata": {},
   "source": [
    "# now we use Pandas read_HTML function to scrape table"
   ]
  },
  {
   "cell_type": "code",
   "execution_count": 136,
   "metadata": {},
   "outputs": [],
   "source": [
    "import pandas as pd\n",
    "\n"
   ]
  },
  {
   "cell_type": "code",
   "execution_count": 138,
   "metadata": {},
   "outputs": [
    {
     "data": {
      "text/plain": [
       "'1.0.1'"
      ]
     },
     "execution_count": 138,
     "metadata": {},
     "output_type": "execute_result"
    }
   ],
   "source": [
    "pd.__version__"
   ]
  },
  {
   "cell_type": "code",
   "execution_count": 140,
   "metadata": {},
   "outputs": [],
   "source": [
    "d=pd.read_html(\"https://www.icc-cricket.com/rankings/mens/team-rankings/test\")"
   ]
  },
  {
   "cell_type": "code",
   "execution_count": 141,
   "metadata": {},
   "outputs": [
    {
     "data": {
      "text/plain": [
       "list"
      ]
     },
     "execution_count": 141,
     "metadata": {},
     "output_type": "execute_result"
    }
   ],
   "source": [
    "type(d)"
   ]
  },
  {
   "cell_type": "code",
   "execution_count": 142,
   "metadata": {},
   "outputs": [
    {
     "data": {
      "text/plain": [
       "1"
      ]
     },
     "execution_count": 142,
     "metadata": {},
     "output_type": "execute_result"
    }
   ],
   "source": [
    "len(d)"
   ]
  },
  {
   "cell_type": "code",
   "execution_count": 143,
   "metadata": {},
   "outputs": [],
   "source": [
    "df=d[0]"
   ]
  },
  {
   "cell_type": "code",
   "execution_count": 144,
   "metadata": {},
   "outputs": [
    {
     "data": {
      "text/html": [
       "<div>\n",
       "<style scoped>\n",
       "    .dataframe tbody tr th:only-of-type {\n",
       "        vertical-align: middle;\n",
       "    }\n",
       "\n",
       "    .dataframe tbody tr th {\n",
       "        vertical-align: top;\n",
       "    }\n",
       "\n",
       "    .dataframe thead th {\n",
       "        text-align: right;\n",
       "    }\n",
       "</style>\n",
       "<table border=\"1\" class=\"dataframe\">\n",
       "  <thead>\n",
       "    <tr style=\"text-align: right;\">\n",
       "      <th></th>\n",
       "      <th>Pos</th>\n",
       "      <th>Team  T</th>\n",
       "      <th>Matches  M</th>\n",
       "      <th>Points  P</th>\n",
       "      <th>Rating  R</th>\n",
       "    </tr>\n",
       "  </thead>\n",
       "  <tbody>\n",
       "    <tr>\n",
       "      <th>0</th>\n",
       "      <td>1</td>\n",
       "      <td>New Zealand  NZ</td>\n",
       "      <td>27</td>\n",
       "      <td>3198</td>\n",
       "      <td>118</td>\n",
       "    </tr>\n",
       "    <tr>\n",
       "      <th>1</th>\n",
       "      <td>2</td>\n",
       "      <td>Australia  AUS</td>\n",
       "      <td>26</td>\n",
       "      <td>3028</td>\n",
       "      <td>116</td>\n",
       "    </tr>\n",
       "    <tr>\n",
       "      <th>2</th>\n",
       "      <td>3</td>\n",
       "      <td>India  IND</td>\n",
       "      <td>27</td>\n",
       "      <td>3085</td>\n",
       "      <td>114</td>\n",
       "    </tr>\n",
       "    <tr>\n",
       "      <th>3</th>\n",
       "      <td>4</td>\n",
       "      <td>England  ENG</td>\n",
       "      <td>41</td>\n",
       "      <td>4326</td>\n",
       "      <td>106</td>\n",
       "    </tr>\n",
       "    <tr>\n",
       "      <th>4</th>\n",
       "      <td>5</td>\n",
       "      <td>South Africa  SA</td>\n",
       "      <td>26</td>\n",
       "      <td>2499</td>\n",
       "      <td>96</td>\n",
       "    </tr>\n",
       "    <tr>\n",
       "      <th>5</th>\n",
       "      <td>6</td>\n",
       "      <td>Sri Lanka  SL</td>\n",
       "      <td>30</td>\n",
       "      <td>2574</td>\n",
       "      <td>86</td>\n",
       "    </tr>\n",
       "    <tr>\n",
       "      <th>6</th>\n",
       "      <td>7</td>\n",
       "      <td>Pakistan  PAK</td>\n",
       "      <td>23</td>\n",
       "      <td>1890</td>\n",
       "      <td>82</td>\n",
       "    </tr>\n",
       "    <tr>\n",
       "      <th>7</th>\n",
       "      <td>8</td>\n",
       "      <td>West Indies  WI</td>\n",
       "      <td>25</td>\n",
       "      <td>1937</td>\n",
       "      <td>77</td>\n",
       "    </tr>\n",
       "    <tr>\n",
       "      <th>8</th>\n",
       "      <td>9</td>\n",
       "      <td>Bangladesh  BAN</td>\n",
       "      <td>17</td>\n",
       "      <td>939</td>\n",
       "      <td>55</td>\n",
       "    </tr>\n",
       "  </tbody>\n",
       "</table>\n",
       "</div>"
      ],
      "text/plain": [
       "   Pos           Team  T  Matches  M  Points  P  Rating  R\n",
       "0    1   New Zealand  NZ          27       3198        118\n",
       "1    2    Australia  AUS          26       3028        116\n",
       "2    3        India  IND          27       3085        114\n",
       "3    4      England  ENG          41       4326        106\n",
       "4    5  South Africa  SA          26       2499         96\n",
       "5    6     Sri Lanka  SL          30       2574         86\n",
       "6    7     Pakistan  PAK          23       1890         82\n",
       "7    8   West Indies  WI          25       1937         77\n",
       "8    9   Bangladesh  BAN          17        939         55"
      ]
     },
     "execution_count": 144,
     "metadata": {},
     "output_type": "execute_result"
    }
   ],
   "source": [
    "df"
   ]
  },
  {
   "cell_type": "code",
   "execution_count": 145,
   "metadata": {},
   "outputs": [
    {
     "data": {
      "text/plain": [
       "pandas.core.frame.DataFrame"
      ]
     },
     "execution_count": 145,
     "metadata": {},
     "output_type": "execute_result"
    }
   ],
   "source": [
    "type(df)"
   ]
  },
  {
   "cell_type": "markdown",
   "metadata": {},
   "source": [
    "# top 10 odi batsmen"
   ]
  },
  {
   "cell_type": "code",
   "execution_count": 147,
   "metadata": {},
   "outputs": [],
   "source": [
    "d=pd.read_html(\"https://www.icc-cricket.com/rankings/mens/player-rankings/odi/batting\")"
   ]
  },
  {
   "cell_type": "code",
   "execution_count": 148,
   "metadata": {},
   "outputs": [],
   "source": [
    "df=d[0]"
   ]
  },
  {
   "cell_type": "code",
   "execution_count": 152,
   "metadata": {},
   "outputs": [
    {
     "data": {
      "text/html": [
       "<div>\n",
       "<style scoped>\n",
       "    .dataframe tbody tr th:only-of-type {\n",
       "        vertical-align: middle;\n",
       "    }\n",
       "\n",
       "    .dataframe tbody tr th {\n",
       "        vertical-align: top;\n",
       "    }\n",
       "\n",
       "    .dataframe thead th {\n",
       "        text-align: right;\n",
       "    }\n",
       "</style>\n",
       "<table border=\"1\" class=\"dataframe\">\n",
       "  <thead>\n",
       "    <tr style=\"text-align: right;\">\n",
       "      <th></th>\n",
       "      <th>Pos</th>\n",
       "      <th>Player</th>\n",
       "      <th>Team</th>\n",
       "      <th>Rating</th>\n",
       "      <th>Career Best Rating</th>\n",
       "    </tr>\n",
       "  </thead>\n",
       "  <tbody>\n",
       "    <tr>\n",
       "      <th>0</th>\n",
       "      <td>1</td>\n",
       "      <td>Virat Kohli</td>\n",
       "      <td>IND</td>\n",
       "      <td>870</td>\n",
       "      <td>911 v England, 12/07/2018</td>\n",
       "    </tr>\n",
       "    <tr>\n",
       "      <th>1</th>\n",
       "      <td>2</td>\n",
       "      <td>Rohit Sharma</td>\n",
       "      <td>IND</td>\n",
       "      <td>842</td>\n",
       "      <td>885 v Sri Lanka, 06/07/2019</td>\n",
       "    </tr>\n",
       "    <tr>\n",
       "      <th>2</th>\n",
       "      <td>3</td>\n",
       "      <td>Babar Azam</td>\n",
       "      <td>PAK</td>\n",
       "      <td>837</td>\n",
       "      <td>846 v Sri Lanka, 20/10/2017</td>\n",
       "    </tr>\n",
       "    <tr>\n",
       "      <th>3</th>\n",
       "      <td>4</td>\n",
       "      <td>Ross Taylor</td>\n",
       "      <td>NZ</td>\n",
       "      <td>818</td>\n",
       "      <td>841 v Bangladesh, 05/06/2019</td>\n",
       "    </tr>\n",
       "    <tr>\n",
       "      <th>4</th>\n",
       "      <td>5  This player has moved up in the rankings si...</td>\n",
       "      <td>Aaron Finch</td>\n",
       "      <td>AUS</td>\n",
       "      <td>791</td>\n",
       "      <td>798 v England, 25/06/2019</td>\n",
       "    </tr>\n",
       "    <tr>\n",
       "      <th>5</th>\n",
       "      <td>6  This player has moved down in the rankings ...</td>\n",
       "      <td>Francois du Plessis</td>\n",
       "      <td>SA</td>\n",
       "      <td>790</td>\n",
       "      <td>820 v Australia, 06/07/2019</td>\n",
       "    </tr>\n",
       "    <tr>\n",
       "      <th>6</th>\n",
       "      <td>7</td>\n",
       "      <td>David Warner</td>\n",
       "      <td>AUS</td>\n",
       "      <td>773</td>\n",
       "      <td>880 v Pakistan, 26/01/2017</td>\n",
       "    </tr>\n",
       "    <tr>\n",
       "      <th>7</th>\n",
       "      <td>8</td>\n",
       "      <td>Kane Williamson</td>\n",
       "      <td>NZ</td>\n",
       "      <td>765</td>\n",
       "      <td>799 v India, 09/07/2019</td>\n",
       "    </tr>\n",
       "    <tr>\n",
       "      <th>8</th>\n",
       "      <td>9</td>\n",
       "      <td>Quinton de Kock</td>\n",
       "      <td>SA</td>\n",
       "      <td>755</td>\n",
       "      <td>813 v Sri Lanka, 10/03/2019</td>\n",
       "    </tr>\n",
       "    <tr>\n",
       "      <th>9</th>\n",
       "      <td>10</td>\n",
       "      <td>Jonny Bairstow</td>\n",
       "      <td>ENG</td>\n",
       "      <td>754</td>\n",
       "      <td>777 v Australia, 21/06/2018</td>\n",
       "    </tr>\n",
       "  </tbody>\n",
       "</table>\n",
       "</div>"
      ],
      "text/plain": [
       "                                                 Pos               Player  \\\n",
       "0                                                  1          Virat Kohli   \n",
       "1                                                  2         Rohit Sharma   \n",
       "2                                                  3           Babar Azam   \n",
       "3                                                  4          Ross Taylor   \n",
       "4  5  This player has moved up in the rankings si...          Aaron Finch   \n",
       "5  6  This player has moved down in the rankings ...  Francois du Plessis   \n",
       "6                                                  7         David Warner   \n",
       "7                                                  8      Kane Williamson   \n",
       "8                                                  9      Quinton de Kock   \n",
       "9                                                 10       Jonny Bairstow   \n",
       "\n",
       "  Team  Rating            Career Best Rating  \n",
       "0  IND     870     911 v England, 12/07/2018  \n",
       "1  IND     842   885 v Sri Lanka, 06/07/2019  \n",
       "2  PAK     837   846 v Sri Lanka, 20/10/2017  \n",
       "3   NZ     818  841 v Bangladesh, 05/06/2019  \n",
       "4  AUS     791     798 v England, 25/06/2019  \n",
       "5   SA     790   820 v Australia, 06/07/2019  \n",
       "6  AUS     773    880 v Pakistan, 26/01/2017  \n",
       "7   NZ     765       799 v India, 09/07/2019  \n",
       "8   SA     755   813 v Sri Lanka, 10/03/2019  \n",
       "9  ENG     754   777 v Australia, 21/06/2018  "
      ]
     },
     "execution_count": 152,
     "metadata": {},
     "output_type": "execute_result"
    }
   ],
   "source": [
    "df.head(10)"
   ]
  },
  {
   "cell_type": "markdown",
   "metadata": {},
   "source": [
    "# top 10 odi bowlers"
   ]
  },
  {
   "cell_type": "code",
   "execution_count": 153,
   "metadata": {},
   "outputs": [],
   "source": [
    "d=pd.read_html(\"https://www.icc-cricket.com/rankings/mens/player-rankings/odi/bowling\")"
   ]
  },
  {
   "cell_type": "code",
   "execution_count": 154,
   "metadata": {},
   "outputs": [],
   "source": [
    "df=d[0]"
   ]
  },
  {
   "cell_type": "code",
   "execution_count": 155,
   "metadata": {},
   "outputs": [
    {
     "data": {
      "text/html": [
       "<div>\n",
       "<style scoped>\n",
       "    .dataframe tbody tr th:only-of-type {\n",
       "        vertical-align: middle;\n",
       "    }\n",
       "\n",
       "    .dataframe tbody tr th {\n",
       "        vertical-align: top;\n",
       "    }\n",
       "\n",
       "    .dataframe thead th {\n",
       "        text-align: right;\n",
       "    }\n",
       "</style>\n",
       "<table border=\"1\" class=\"dataframe\">\n",
       "  <thead>\n",
       "    <tr style=\"text-align: right;\">\n",
       "      <th></th>\n",
       "      <th>Pos</th>\n",
       "      <th>Player</th>\n",
       "      <th>Team</th>\n",
       "      <th>Rating</th>\n",
       "      <th>Career Best Rating</th>\n",
       "    </tr>\n",
       "  </thead>\n",
       "  <tbody>\n",
       "    <tr>\n",
       "      <th>0</th>\n",
       "      <td>1</td>\n",
       "      <td>Trent Boult</td>\n",
       "      <td>NZ</td>\n",
       "      <td>722</td>\n",
       "      <td>770 v West Indies, 22/06/2019</td>\n",
       "    </tr>\n",
       "    <tr>\n",
       "      <th>1</th>\n",
       "      <td>2</td>\n",
       "      <td>Mujeeb Ur Rahman</td>\n",
       "      <td>AFG</td>\n",
       "      <td>701</td>\n",
       "      <td>707 v West Indies, 11/11/2019</td>\n",
       "    </tr>\n",
       "    <tr>\n",
       "      <th>2</th>\n",
       "      <td>3</td>\n",
       "      <td>Jasprit Bumrah</td>\n",
       "      <td>IND</td>\n",
       "      <td>700</td>\n",
       "      <td>841 v West Indies, 01/11/2018</td>\n",
       "    </tr>\n",
       "    <tr>\n",
       "      <th>3</th>\n",
       "      <td>4</td>\n",
       "      <td>Chris Woakes</td>\n",
       "      <td>ENG</td>\n",
       "      <td>675</td>\n",
       "      <td>676 v New Zealand, 14/07/2019</td>\n",
       "    </tr>\n",
       "    <tr>\n",
       "      <th>4</th>\n",
       "      <td>5  This player has moved up in the rankings si...</td>\n",
       "      <td>Kagiso Rabada</td>\n",
       "      <td>SA</td>\n",
       "      <td>665</td>\n",
       "      <td>724 v England, 29/05/2017</td>\n",
       "    </tr>\n",
       "    <tr>\n",
       "      <th>5</th>\n",
       "      <td>6  This player has moved down in the rankings ...</td>\n",
       "      <td>Josh Hazlewood</td>\n",
       "      <td>AUS</td>\n",
       "      <td>660</td>\n",
       "      <td>733 v England, 26/01/2018</td>\n",
       "    </tr>\n",
       "    <tr>\n",
       "      <th>6</th>\n",
       "      <td>7  This player has moved up in the rankings si...</td>\n",
       "      <td>Mohammad Amir</td>\n",
       "      <td>PAK</td>\n",
       "      <td>647</td>\n",
       "      <td>663 v Sri Lanka, 02/10/2019</td>\n",
       "    </tr>\n",
       "    <tr>\n",
       "      <th>7</th>\n",
       "      <td>8  This player has moved down in the rankings ...</td>\n",
       "      <td>Pat Cummins</td>\n",
       "      <td>AUS</td>\n",
       "      <td>646</td>\n",
       "      <td>729 v Pakistan, 12/06/2019</td>\n",
       "    </tr>\n",
       "    <tr>\n",
       "      <th>8</th>\n",
       "      <td>9</td>\n",
       "      <td>Matt Henry</td>\n",
       "      <td>NZ</td>\n",
       "      <td>641</td>\n",
       "      <td>675 v Australia, 08/02/2016</td>\n",
       "    </tr>\n",
       "    <tr>\n",
       "      <th>9</th>\n",
       "      <td>10</td>\n",
       "      <td>Jofra Archer</td>\n",
       "      <td>ENG</td>\n",
       "      <td>637</td>\n",
       "      <td>642 v Australia, 13/09/2020</td>\n",
       "    </tr>\n",
       "  </tbody>\n",
       "</table>\n",
       "</div>"
      ],
      "text/plain": [
       "                                                 Pos            Player Team  \\\n",
       "0                                                  1       Trent Boult   NZ   \n",
       "1                                                  2  Mujeeb Ur Rahman  AFG   \n",
       "2                                                  3    Jasprit Bumrah  IND   \n",
       "3                                                  4      Chris Woakes  ENG   \n",
       "4  5  This player has moved up in the rankings si...     Kagiso Rabada   SA   \n",
       "5  6  This player has moved down in the rankings ...    Josh Hazlewood  AUS   \n",
       "6  7  This player has moved up in the rankings si...     Mohammad Amir  PAK   \n",
       "7  8  This player has moved down in the rankings ...       Pat Cummins  AUS   \n",
       "8                                                  9        Matt Henry   NZ   \n",
       "9                                                 10      Jofra Archer  ENG   \n",
       "\n",
       "   Rating             Career Best Rating  \n",
       "0     722  770 v West Indies, 22/06/2019  \n",
       "1     701  707 v West Indies, 11/11/2019  \n",
       "2     700  841 v West Indies, 01/11/2018  \n",
       "3     675  676 v New Zealand, 14/07/2019  \n",
       "4     665      724 v England, 29/05/2017  \n",
       "5     660      733 v England, 26/01/2018  \n",
       "6     647    663 v Sri Lanka, 02/10/2019  \n",
       "7     646     729 v Pakistan, 12/06/2019  \n",
       "8     641    675 v Australia, 08/02/2016  \n",
       "9     637    642 v Australia, 13/09/2020  "
      ]
     },
     "execution_count": 155,
     "metadata": {},
     "output_type": "execute_result"
    }
   ],
   "source": [
    "df.head(10)"
   ]
  },
  {
   "cell_type": "code",
   "execution_count": 156,
   "metadata": {},
   "outputs": [],
   "source": [
    "import csv\n",
    "#save to CSV\n",
    "df.to_csv('df.csv')"
   ]
  },
  {
   "cell_type": "code",
   "execution_count": null,
   "metadata": {},
   "outputs": [],
   "source": []
  }
 ],
 "metadata": {
  "kernelspec": {
   "display_name": "Python 3",
   "language": "python",
   "name": "python3"
  },
  "language_info": {
   "codemirror_mode": {
    "name": "ipython",
    "version": 3
   },
   "file_extension": ".py",
   "mimetype": "text/x-python",
   "name": "python",
   "nbconvert_exporter": "python",
   "pygments_lexer": "ipython3",
   "version": "3.7.6"
  },
  "toc": {
   "base_numbering": 1,
   "nav_menu": {},
   "number_sections": true,
   "sideBar": true,
   "skip_h1_title": false,
   "title_cell": "Table of Contents",
   "title_sidebar": "Contents",
   "toc_cell": false,
   "toc_position": {},
   "toc_section_display": true,
   "toc_window_display": false
  }
 },
 "nbformat": 4,
 "nbformat_minor": 4
}
