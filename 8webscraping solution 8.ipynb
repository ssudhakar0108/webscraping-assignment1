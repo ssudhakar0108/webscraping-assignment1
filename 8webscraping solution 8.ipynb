{
 "cells": [
  {
   "cell_type": "markdown",
   "metadata": {},
   "source": [
    "# Write a python program to extract information about the local weather from the National Weather Servicewebsite of USA, https://www.weather.gov/ for the city, San Francisco. You need to extract data about 7 dayextended forecast display for the city. The data should include period, short description, temperature anddescription.9."
   ]
  },
  {
   "cell_type": "markdown",
   "metadata": {},
   "source": []
  },
  {
   "cell_type": "code",
   "execution_count": 5,
   "metadata": {},
   "outputs": [],
   "source": [
    "import selenium\n",
    "import pandas as pd\n",
    "from selenium import webdriver"
   ]
  },
  {
   "cell_type": "code",
   "execution_count": 6,
   "metadata": {},
   "outputs": [],
   "source": [
    "driver=webdriver.Chrome(r\"/home/sudhakar/Downloads/chromedriver\")"
   ]
  },
  {
   "cell_type": "code",
   "execution_count": 7,
   "metadata": {},
   "outputs": [],
   "source": [
    "url=\"https://forecast.weather.gov/MapClick.php?lat=37.7772&lon=-122.4168#.YAR-C-YzY8q\""
   ]
  },
  {
   "cell_type": "code",
   "execution_count": 8,
   "metadata": {},
   "outputs": [],
   "source": [
    "driver.get(url)"
   ]
  },
  {
   "cell_type": "code",
   "execution_count": 9,
   "metadata": {},
   "outputs": [],
   "source": [
    "PERIOD=[]\n",
    "DISCRIPTION=[]\n"
   ]
  },
  {
   "cell_type": "code",
   "execution_count": 10,
   "metadata": {},
   "outputs": [],
   "source": [
    "period_tags=driver.find_elements_by_xpath(\"//div[@class='col-sm-2 forecast-label']\")"
   ]
  },
  {
   "cell_type": "code",
   "execution_count": 11,
   "metadata": {},
   "outputs": [
    {
     "data": {
      "text/plain": [
       "[<selenium.webdriver.remote.webelement.WebElement (session=\"96c5f362a0e32db34f5a4ea87a6ef9c6\", element=\"7782d690-e820-4c3d-a27c-d9b32d53530a\")>,\n",
       " <selenium.webdriver.remote.webelement.WebElement (session=\"96c5f362a0e32db34f5a4ea87a6ef9c6\", element=\"5f2f4ddb-2a70-4191-8a00-c8008c1b0101\")>,\n",
       " <selenium.webdriver.remote.webelement.WebElement (session=\"96c5f362a0e32db34f5a4ea87a6ef9c6\", element=\"e9a5fcbd-ba51-480d-bf43-cd36918b3639\")>,\n",
       " <selenium.webdriver.remote.webelement.WebElement (session=\"96c5f362a0e32db34f5a4ea87a6ef9c6\", element=\"375ee89b-07a5-41bb-ac27-09b2f0a10c3e\")>,\n",
       " <selenium.webdriver.remote.webelement.WebElement (session=\"96c5f362a0e32db34f5a4ea87a6ef9c6\", element=\"cbfffde8-2017-4657-ae17-5293589e0ffd\")>,\n",
       " <selenium.webdriver.remote.webelement.WebElement (session=\"96c5f362a0e32db34f5a4ea87a6ef9c6\", element=\"cc3e8ab5-8ca4-4535-8bba-4c0ade303571\")>,\n",
       " <selenium.webdriver.remote.webelement.WebElement (session=\"96c5f362a0e32db34f5a4ea87a6ef9c6\", element=\"374cc32f-ffc9-456a-9bd3-6bcabc524184\")>,\n",
       " <selenium.webdriver.remote.webelement.WebElement (session=\"96c5f362a0e32db34f5a4ea87a6ef9c6\", element=\"e820a69d-b54a-4c17-96bd-8881438e3b5c\")>,\n",
       " <selenium.webdriver.remote.webelement.WebElement (session=\"96c5f362a0e32db34f5a4ea87a6ef9c6\", element=\"698a7b80-f23b-47b8-8b6f-f8534094b0f4\")>,\n",
       " <selenium.webdriver.remote.webelement.WebElement (session=\"96c5f362a0e32db34f5a4ea87a6ef9c6\", element=\"8f88eaff-b6fa-4a2e-bbe2-8e5a935bc503\")>,\n",
       " <selenium.webdriver.remote.webelement.WebElement (session=\"96c5f362a0e32db34f5a4ea87a6ef9c6\", element=\"2fce367e-f0df-4617-8df9-2f064304e0d7\")>,\n",
       " <selenium.webdriver.remote.webelement.WebElement (session=\"96c5f362a0e32db34f5a4ea87a6ef9c6\", element=\"75b4f1b4-d848-4c11-a5bc-e6ba87f01c70\")>,\n",
       " <selenium.webdriver.remote.webelement.WebElement (session=\"96c5f362a0e32db34f5a4ea87a6ef9c6\", element=\"76589fe1-d6e8-41a1-9f2d-25063a29efb8\")>]"
      ]
     },
     "execution_count": 11,
     "metadata": {},
     "output_type": "execute_result"
    }
   ],
   "source": [
    "period_tags"
   ]
  },
  {
   "cell_type": "code",
   "execution_count": 14,
   "metadata": {},
   "outputs": [],
   "source": [
    "for i in period_tags:\n",
    "    name1=i.text\n",
    "    PERIOD.append(name1)"
   ]
  },
  {
   "cell_type": "code",
   "execution_count": 15,
   "metadata": {},
   "outputs": [
    {
     "data": {
      "text/plain": [
       "['Today',\n",
       " 'Tonight',\n",
       " 'M.L.King Day',\n",
       " 'Monday Night',\n",
       " 'Tuesday',\n",
       " 'Tuesday Night',\n",
       " 'Wednesday',\n",
       " 'Wednesday Night',\n",
       " 'Thursday',\n",
       " 'Thursday Night',\n",
       " 'Friday',\n",
       " 'Friday Night',\n",
       " 'Saturday']"
      ]
     },
     "execution_count": 15,
     "metadata": {},
     "output_type": "execute_result"
    }
   ],
   "source": [
    "PERIOD"
   ]
  },
  {
   "cell_type": "code",
   "execution_count": 16,
   "metadata": {},
   "outputs": [],
   "source": [
    "description_tags=driver.find_elements_by_xpath(\"//div[@class='col-sm-10 forecast-text']\")"
   ]
  },
  {
   "cell_type": "code",
   "execution_count": 18,
   "metadata": {},
   "outputs": [],
   "source": [
    "for i in description_tags:\n",
    "    name1=i.text\n",
    "    DISCRIPTION.append(name1)"
   ]
  },
  {
   "cell_type": "code",
   "execution_count": 19,
   "metadata": {},
   "outputs": [
    {
     "data": {
      "text/plain": [
       "['Sunny, with a high near 69. Calm wind becoming west 5 to 7 mph in the afternoon.',\n",
       " 'Partly cloudy, with a low around 50. West southwest wind 5 to 7 mph.',\n",
       " 'Sunny, with a high near 71. North wind 8 to 13 mph, with gusts as high as 43 mph.',\n",
       " 'Mostly clear, with a low around 51. North wind 10 to 16 mph, with gusts as high as 45 mph.',\n",
       " 'Sunny, with a high near 67. Breezy, with a northeast wind 17 to 23 mph, with gusts as high as 46 mph.',\n",
       " 'Clear, with a low around 46.',\n",
       " 'Sunny, with a high near 63.',\n",
       " 'Mostly clear, with a low around 45.',\n",
       " 'Mostly sunny, with a high near 60.',\n",
       " 'Partly cloudy, with a low around 46.',\n",
       " 'A slight chance of rain. Mostly sunny, with a high near 57.',\n",
       " 'A slight chance of rain. Partly cloudy, with a low around 44.',\n",
       " 'Sunny, with a high near 58.']"
      ]
     },
     "execution_count": 19,
     "metadata": {},
     "output_type": "execute_result"
    }
   ],
   "source": [
    "DISCRIPTION"
   ]
  },
  {
   "cell_type": "code",
   "execution_count": 20,
   "metadata": {},
   "outputs": [
    {
     "name": "stdout",
     "output_type": "stream",
     "text": [
      "13 13\n"
     ]
    }
   ],
   "source": [
    "print(len(PERIOD),len(DISCRIPTION))"
   ]
  },
  {
   "cell_type": "code",
   "execution_count": 22,
   "metadata": {},
   "outputs": [],
   "source": [
    "import pandas as pd\n",
    "sanfrans=pd.DataFrame({})\n",
    "sanfrans['period_tags']=PERIOD    \n",
    "sanfrans['DISCRIPTION']=DISCRIPTION\n"
   ]
  },
  {
   "cell_type": "code",
   "execution_count": 24,
   "metadata": {},
   "outputs": [
    {
     "data": {
      "text/html": [
       "<div>\n",
       "<style scoped>\n",
       "    .dataframe tbody tr th:only-of-type {\n",
       "        vertical-align: middle;\n",
       "    }\n",
       "\n",
       "    .dataframe tbody tr th {\n",
       "        vertical-align: top;\n",
       "    }\n",
       "\n",
       "    .dataframe thead th {\n",
       "        text-align: right;\n",
       "    }\n",
       "</style>\n",
       "<table border=\"1\" class=\"dataframe\">\n",
       "  <thead>\n",
       "    <tr style=\"text-align: right;\">\n",
       "      <th></th>\n",
       "      <th>period_tags</th>\n",
       "      <th>DISCRIPTION</th>\n",
       "    </tr>\n",
       "  </thead>\n",
       "  <tbody>\n",
       "    <tr>\n",
       "      <th>0</th>\n",
       "      <td>Today</td>\n",
       "      <td>Sunny, with a high near 69. Calm wind becoming...</td>\n",
       "    </tr>\n",
       "    <tr>\n",
       "      <th>1</th>\n",
       "      <td>Tonight</td>\n",
       "      <td>Partly cloudy, with a low around 50. West sout...</td>\n",
       "    </tr>\n",
       "    <tr>\n",
       "      <th>2</th>\n",
       "      <td>M.L.King Day</td>\n",
       "      <td>Sunny, with a high near 71. North wind 8 to 13...</td>\n",
       "    </tr>\n",
       "    <tr>\n",
       "      <th>3</th>\n",
       "      <td>Monday Night</td>\n",
       "      <td>Mostly clear, with a low around 51. North wind...</td>\n",
       "    </tr>\n",
       "    <tr>\n",
       "      <th>4</th>\n",
       "      <td>Tuesday</td>\n",
       "      <td>Sunny, with a high near 67. Breezy, with a nor...</td>\n",
       "    </tr>\n",
       "    <tr>\n",
       "      <th>5</th>\n",
       "      <td>Tuesday Night</td>\n",
       "      <td>Clear, with a low around 46.</td>\n",
       "    </tr>\n",
       "    <tr>\n",
       "      <th>6</th>\n",
       "      <td>Wednesday</td>\n",
       "      <td>Sunny, with a high near 63.</td>\n",
       "    </tr>\n",
       "    <tr>\n",
       "      <th>7</th>\n",
       "      <td>Wednesday Night</td>\n",
       "      <td>Mostly clear, with a low around 45.</td>\n",
       "    </tr>\n",
       "    <tr>\n",
       "      <th>8</th>\n",
       "      <td>Thursday</td>\n",
       "      <td>Mostly sunny, with a high near 60.</td>\n",
       "    </tr>\n",
       "    <tr>\n",
       "      <th>9</th>\n",
       "      <td>Thursday Night</td>\n",
       "      <td>Partly cloudy, with a low around 46.</td>\n",
       "    </tr>\n",
       "    <tr>\n",
       "      <th>10</th>\n",
       "      <td>Friday</td>\n",
       "      <td>A slight chance of rain. Mostly sunny, with a ...</td>\n",
       "    </tr>\n",
       "    <tr>\n",
       "      <th>11</th>\n",
       "      <td>Friday Night</td>\n",
       "      <td>A slight chance of rain. Partly cloudy, with a...</td>\n",
       "    </tr>\n",
       "    <tr>\n",
       "      <th>12</th>\n",
       "      <td>Saturday</td>\n",
       "      <td>Sunny, with a high near 58.</td>\n",
       "    </tr>\n",
       "  </tbody>\n",
       "</table>\n",
       "</div>"
      ],
      "text/plain": [
       "        period_tags                                        DISCRIPTION\n",
       "0             Today  Sunny, with a high near 69. Calm wind becoming...\n",
       "1           Tonight  Partly cloudy, with a low around 50. West sout...\n",
       "2      M.L.King Day  Sunny, with a high near 71. North wind 8 to 13...\n",
       "3      Monday Night  Mostly clear, with a low around 51. North wind...\n",
       "4           Tuesday  Sunny, with a high near 67. Breezy, with a nor...\n",
       "5     Tuesday Night                       Clear, with a low around 46.\n",
       "6         Wednesday                        Sunny, with a high near 63.\n",
       "7   Wednesday Night                Mostly clear, with a low around 45.\n",
       "8          Thursday                 Mostly sunny, with a high near 60.\n",
       "9    Thursday Night               Partly cloudy, with a low around 46.\n",
       "10           Friday  A slight chance of rain. Mostly sunny, with a ...\n",
       "11     Friday Night  A slight chance of rain. Partly cloudy, with a...\n",
       "12         Saturday                        Sunny, with a high near 58."
      ]
     },
     "execution_count": 24,
     "metadata": {},
     "output_type": "execute_result"
    }
   ],
   "source": [
    "sanfrans"
   ]
  },
  {
   "cell_type": "code",
   "execution_count": 25,
   "metadata": {},
   "outputs": [],
   "source": [
    "import csv\n",
    "#save to CSV\n",
    "sanfrans.to_csv('sanfrans.csv')"
   ]
  },
  {
   "cell_type": "code",
   "execution_count": null,
   "metadata": {},
   "outputs": [],
   "source": []
  }
 ],
 "metadata": {
  "kernelspec": {
   "display_name": "Python 3",
   "language": "python",
   "name": "python3"
  },
  "language_info": {
   "codemirror_mode": {
    "name": "ipython",
    "version": 3
   },
   "file_extension": ".py",
   "mimetype": "text/x-python",
   "name": "python",
   "nbconvert_exporter": "python",
   "pygments_lexer": "ipython3",
   "version": "3.7.6"
  },
  "toc": {
   "base_numbering": 1,
   "nav_menu": {},
   "number_sections": true,
   "sideBar": true,
   "skip_h1_title": false,
   "title_cell": "Table of Contents",
   "title_sidebar": "Contents",
   "toc_cell": false,
   "toc_position": {},
   "toc_section_display": true,
   "toc_window_display": false
  }
 },
 "nbformat": 4,
 "nbformat_minor": 4
}
