{
 "cells": [
  {
   "cell_type": "markdown",
   "metadata": {},
   "source": [
    "# 1. Write a python program to display all the header tags from ‘en.wikipedia.org/wiki/Main_Page’."
   ]
  },
  {
   "cell_type": "code",
   "execution_count": 1,
   "metadata": {},
   "outputs": [
    {
     "name": "stdout",
     "output_type": "stream",
     "text": [
      "Collecting selenium\n",
      "  Downloading selenium-3.141.0-py2.py3-none-any.whl (904 kB)\n",
      "\u001b[K     |████████████████████████████████| 904 kB 729 kB/s eta 0:00:01\n",
      "\u001b[?25hRequirement already satisfied: urllib3 in ./enter/lib/python3.7/site-packages (from selenium) (1.25.8)\n",
      "Installing collected packages: selenium\n",
      "Successfully installed selenium-3.141.0\n"
     ]
    }
   ],
   "source": [
    "! pip install selenium"
   ]
  },
  {
   "cell_type": "code",
   "execution_count": 1,
   "metadata": {},
   "outputs": [],
   "source": [
    "import selenium\n",
    "import pandas as pd\n",
    "from selenium import webdriver"
   ]
  },
  {
   "cell_type": "code",
   "execution_count": 9,
   "metadata": {},
   "outputs": [],
   "source": [
    "driver=webdriver.Chrome(r\"/home/sudhakar/Downloads/chromedriver\")"
   ]
  },
  {
   "cell_type": "code",
   "execution_count": 10,
   "metadata": {},
   "outputs": [],
   "source": [
    "url=\"https://en.wikipedia.org/wiki/Main_Page\""
   ]
  },
  {
   "cell_type": "code",
   "execution_count": 11,
   "metadata": {},
   "outputs": [],
   "source": [
    "driver.get(url)"
   ]
  },
  {
   "cell_type": "code",
   "execution_count": 12,
   "metadata": {},
   "outputs": [],
   "source": [
    "titles=[]"
   ]
  },
  {
   "cell_type": "code",
   "execution_count": 13,
   "metadata": {},
   "outputs": [],
   "source": [
    "title_tags=driver.find_elements_by_xpath(\"//span[@class='mw-headline']\")"
   ]
  },
  {
   "cell_type": "code",
   "execution_count": 14,
   "metadata": {},
   "outputs": [
    {
     "data": {
      "text/plain": [
       "[<selenium.webdriver.remote.webelement.WebElement (session=\"dc679ff2200d9090f78d4ac3526c6772\", element=\"a806695c-cf00-459d-a950-21a972bd7e56\")>,\n",
       " <selenium.webdriver.remote.webelement.WebElement (session=\"dc679ff2200d9090f78d4ac3526c6772\", element=\"e1824727-b739-4000-9f95-bc8230b6bbcc\")>,\n",
       " <selenium.webdriver.remote.webelement.WebElement (session=\"dc679ff2200d9090f78d4ac3526c6772\", element=\"aff16360-bba4-464e-a44f-b24523412b3e\")>,\n",
       " <selenium.webdriver.remote.webelement.WebElement (session=\"dc679ff2200d9090f78d4ac3526c6772\", element=\"9c95fc46-62b2-4c23-b38b-455254a843c7\")>,\n",
       " <selenium.webdriver.remote.webelement.WebElement (session=\"dc679ff2200d9090f78d4ac3526c6772\", element=\"0430ccd7-85a1-4e5a-8ada-6492b64c4565\")>,\n",
       " <selenium.webdriver.remote.webelement.WebElement (session=\"dc679ff2200d9090f78d4ac3526c6772\", element=\"628a6c98-d21a-4461-b906-a123f9a6c944\")>,\n",
       " <selenium.webdriver.remote.webelement.WebElement (session=\"dc679ff2200d9090f78d4ac3526c6772\", element=\"459470c9-ee92-43bb-94b4-aa022fe677bb\")>,\n",
       " <selenium.webdriver.remote.webelement.WebElement (session=\"dc679ff2200d9090f78d4ac3526c6772\", element=\"6130f724-c8bf-4343-9418-47ba9313edbc\")>]"
      ]
     },
     "execution_count": 14,
     "metadata": {},
     "output_type": "execute_result"
    }
   ],
   "source": [
    "title_tags"
   ]
  },
  {
   "cell_type": "code",
   "execution_count": 18,
   "metadata": {},
   "outputs": [],
   "source": [
    "for i in title_tags:\n",
    "    title1=i.text\n",
    "    titles.append(title1)\n",
    " "
   ]
  },
  {
   "cell_type": "code",
   "execution_count": 19,
   "metadata": {},
   "outputs": [
    {
     "data": {
      "text/plain": [
       "[\"From today's featured article\",\n",
       " 'Did you know ...',\n",
       " 'In the news',\n",
       " 'On this day',\n",
       " \"Today's featured picture\",\n",
       " 'Other areas of Wikipedia',\n",
       " \"Wikipedia's sister projects\",\n",
       " 'Wikipedia languages']"
      ]
     },
     "execution_count": 19,
     "metadata": {},
     "output_type": "execute_result"
    }
   ],
   "source": [
    "titles"
   ]
  },
  {
   "cell_type": "code",
   "execution_count": null,
   "metadata": {},
   "outputs": [],
   "source": []
  }
 ],
 "metadata": {
  "kernelspec": {
   "display_name": "Python 3",
   "language": "python",
   "name": "python3"
  },
  "language_info": {
   "codemirror_mode": {
    "name": "ipython",
    "version": 3
   },
   "file_extension": ".py",
   "mimetype": "text/x-python",
   "name": "python",
   "nbconvert_exporter": "python",
   "pygments_lexer": "ipython3",
   "version": "3.7.6"
  },
  "toc": {
   "base_numbering": 1,
   "nav_menu": {},
   "number_sections": true,
   "sideBar": true,
   "skip_h1_title": false,
   "title_cell": "Table of Contents",
   "title_sidebar": "Contents",
   "toc_cell": false,
   "toc_position": {},
   "toc_section_display": true,
   "toc_window_display": false
  }
 },
 "nbformat": 4,
 "nbformat_minor": 4
}
