{
 "cells": [
  {
   "cell_type": "markdown",
   "metadata": {},
   "source": [
    "# Write a python program to scrape ‘data scientist’ job listings for location ‘New Delhi’ from ‘Monster.com’. Itshould include all the jobs listed for the next 5 pages."
   ]
  },
  {
   "cell_type": "markdown",
   "metadata": {},
   "source": []
  },
  {
   "cell_type": "code",
   "execution_count": 3,
   "metadata": {},
   "outputs": [],
   "source": [
    "import requests\n",
    "from bs4 import BeautifulSoup as soup\n",
    "\n"
   ]
  },
  {
   "cell_type": "code",
   "execution_count": 4,
   "metadata": {},
   "outputs": [],
   "source": [
    "import requests\n",
    "URL='https://www.monster.com/jobs/search/?q=Data-Scientist&where=india'"
   ]
  },
  {
   "cell_type": "code",
   "execution_count": 5,
   "metadata": {},
   "outputs": [],
   "source": [
    "page = requests.get(URL)"
   ]
  },
  {
   "cell_type": "code",
   "execution_count": 6,
   "metadata": {},
   "outputs": [],
   "source": [
    "bsobj=soup(page.content,'lxml')"
   ]
  },
  {
   "cell_type": "code",
   "execution_count": 7,
   "metadata": {},
   "outputs": [],
   "source": [
    "title = []\n",
    "for header in bsobj.findAll('h2',{'class':'title'}):\n",
    "  title.append(header.text.strip())"
   ]
  },
  {
   "cell_type": "code",
   "execution_count": 8,
   "metadata": {},
   "outputs": [
    {
     "data": {
      "text/plain": [
       "['Lead Data Scientist - Bengaluru, Karnataka',\n",
       " 'Senior Data Scientist - Bengaluru, Karnataka',\n",
       " 'Data Science Quality Assessment Engineer - Bengaluru, Karnataka',\n",
       " 'IT JOBS HYDERABAD,TELANAGANA,INDIA',\n",
       " 'Senior Engineering Manager, Machine Learning']"
      ]
     },
     "execution_count": 8,
     "metadata": {},
     "output_type": "execute_result"
    }
   ],
   "source": [
    "title"
   ]
  },
  {
   "cell_type": "code",
   "execution_count": 9,
   "metadata": {},
   "outputs": [],
   "source": [
    "company = []\n",
    "for name in bsobj.findAll('div',{'class':'company'}):\n",
    "  company.append(name.text.strip())"
   ]
  },
  {
   "cell_type": "code",
   "execution_count": 10,
   "metadata": {},
   "outputs": [
    {
     "data": {
      "text/plain": [
       "['EagleView Technologies',\n",
       " 'EagleView Technologies',\n",
       " 'EagleView Technologies',\n",
       " 'GENUINE IT JOBS HYDERABAD',\n",
       " 'Twilio']"
      ]
     },
     "execution_count": 10,
     "metadata": {},
     "output_type": "execute_result"
    }
   ],
   "source": [
    "company"
   ]
  },
  {
   "cell_type": "code",
   "execution_count": 11,
   "metadata": {},
   "outputs": [],
   "source": [
    "location = []\n",
    "for locs in bsobj.findAll('div',{'class':'location'}):\n",
    "  location.append(locs.text.strip())\n",
    "location = location[1:]"
   ]
  },
  {
   "cell_type": "code",
   "execution_count": 12,
   "metadata": {},
   "outputs": [
    {
     "data": {
      "text/plain": [
       "['Bengaluru, KT',\n",
       " 'Bengaluru, KT',\n",
       " 'Bengaluru, KT',\n",
       " 'HYDERABAD,TELANGANA,INDIA, AS',\n",
       " 'Bengaluru, Karnataka, KT']"
      ]
     },
     "execution_count": 12,
     "metadata": {},
     "output_type": "execute_result"
    }
   ],
   "source": [
    "location"
   ]
  },
  {
   "cell_type": "code",
   "execution_count": 15,
   "metadata": {},
   "outputs": [],
   "source": [
    "\n",
    "import pandas as pd\n",
    "d1 = {'title':title,'company':company,'location':location}\n",
    "DataScientist_Monster= pd.DataFrame.from_dict(d1)"
   ]
  },
  {
   "cell_type": "code",
   "execution_count": 16,
   "metadata": {},
   "outputs": [
    {
     "data": {
      "text/html": [
       "<div>\n",
       "<style scoped>\n",
       "    .dataframe tbody tr th:only-of-type {\n",
       "        vertical-align: middle;\n",
       "    }\n",
       "\n",
       "    .dataframe tbody tr th {\n",
       "        vertical-align: top;\n",
       "    }\n",
       "\n",
       "    .dataframe thead th {\n",
       "        text-align: right;\n",
       "    }\n",
       "</style>\n",
       "<table border=\"1\" class=\"dataframe\">\n",
       "  <thead>\n",
       "    <tr style=\"text-align: right;\">\n",
       "      <th></th>\n",
       "      <th>title</th>\n",
       "      <th>company</th>\n",
       "      <th>location</th>\n",
       "    </tr>\n",
       "  </thead>\n",
       "  <tbody>\n",
       "    <tr>\n",
       "      <th>0</th>\n",
       "      <td>Lead Data Scientist - Bengaluru, Karnataka</td>\n",
       "      <td>EagleView Technologies</td>\n",
       "      <td>Bengaluru, KT</td>\n",
       "    </tr>\n",
       "    <tr>\n",
       "      <th>1</th>\n",
       "      <td>Senior Data Scientist - Bengaluru, Karnataka</td>\n",
       "      <td>EagleView Technologies</td>\n",
       "      <td>Bengaluru, KT</td>\n",
       "    </tr>\n",
       "    <tr>\n",
       "      <th>2</th>\n",
       "      <td>Data Science Quality Assessment Engineer - Ben...</td>\n",
       "      <td>EagleView Technologies</td>\n",
       "      <td>Bengaluru, KT</td>\n",
       "    </tr>\n",
       "    <tr>\n",
       "      <th>3</th>\n",
       "      <td>IT JOBS HYDERABAD,TELANAGANA,INDIA</td>\n",
       "      <td>GENUINE IT JOBS HYDERABAD</td>\n",
       "      <td>HYDERABAD,TELANGANA,INDIA, AS</td>\n",
       "    </tr>\n",
       "    <tr>\n",
       "      <th>4</th>\n",
       "      <td>Senior Engineering Manager, Machine Learning</td>\n",
       "      <td>Twilio</td>\n",
       "      <td>Bengaluru, Karnataka, KT</td>\n",
       "    </tr>\n",
       "  </tbody>\n",
       "</table>\n",
       "</div>"
      ],
      "text/plain": [
       "                                               title  \\\n",
       "0         Lead Data Scientist - Bengaluru, Karnataka   \n",
       "1       Senior Data Scientist - Bengaluru, Karnataka   \n",
       "2  Data Science Quality Assessment Engineer - Ben...   \n",
       "3                 IT JOBS HYDERABAD,TELANAGANA,INDIA   \n",
       "4       Senior Engineering Manager, Machine Learning   \n",
       "\n",
       "                     company                       location  \n",
       "0     EagleView Technologies                  Bengaluru, KT  \n",
       "1     EagleView Technologies                  Bengaluru, KT  \n",
       "2     EagleView Technologies                  Bengaluru, KT  \n",
       "3  GENUINE IT JOBS HYDERABAD  HYDERABAD,TELANGANA,INDIA, AS  \n",
       "4                     Twilio       Bengaluru, Karnataka, KT  "
      ]
     },
     "execution_count": 16,
     "metadata": {},
     "output_type": "execute_result"
    }
   ],
   "source": [
    "DataScientist_Monster"
   ]
  },
  {
   "cell_type": "code",
   "execution_count": 17,
   "metadata": {},
   "outputs": [],
   "source": [
    "import csv\n",
    "#save to CSV\n",
    "DataScientist_Monster.to_csv('DataScientist_Monster.csv')"
   ]
  },
  {
   "cell_type": "code",
   "execution_count": null,
   "metadata": {},
   "outputs": [],
   "source": []
  }
 ],
 "metadata": {
  "kernelspec": {
   "display_name": "Python 3",
   "language": "python",
   "name": "python3"
  },
  "language_info": {
   "codemirror_mode": {
    "name": "ipython",
    "version": 3
   },
   "file_extension": ".py",
   "mimetype": "text/x-python",
   "name": "python",
   "nbconvert_exporter": "python",
   "pygments_lexer": "ipython3",
   "version": "3.7.6"
  },
  "toc": {
   "base_numbering": 1,
   "nav_menu": {},
   "number_sections": true,
   "sideBar": true,
   "skip_h1_title": false,
   "title_cell": "Table of Contents",
   "title_sidebar": "Contents",
   "toc_cell": false,
   "toc_position": {},
   "toc_section_display": true,
   "toc_window_display": false
  }
 },
 "nbformat": 4,
 "nbformat_minor": 4
}
